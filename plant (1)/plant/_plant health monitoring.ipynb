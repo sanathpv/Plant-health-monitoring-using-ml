{
 "cells": [
  {
   "cell_type": "code",
   "execution_count": 4,
   "id": "421863fc-0c53-4d78-a199-ca9731a61756",
   "metadata": {},
   "outputs": [],
   "source": [
    "import pandas as pd   #ad\n",
    "import numpy as np  #series\n",
    "import matplotlib.pyplot as plt"
   ]
  },
  {
   "cell_type": "code",
   "execution_count": 5,
   "id": "ae4c507f-b591-4499-8a16-30d4fe6bc154",
   "metadata": {},
   "outputs": [],
   "source": [
    "df=pd.read_csv(r'C:\\Users\\varun\\Downloads\\plant_health_data.csv')"
   ]
  },
  {
   "cell_type": "code",
   "execution_count": 6,
   "id": "2fbb71c0-45dc-4541-ad9c-61717d7040ea",
   "metadata": {
    "scrolled": true
   },
   "outputs": [
    {
     "data": {
      "text/html": [
       "<div>\n",
       "<style scoped>\n",
       "    .dataframe tbody tr th:only-of-type {\n",
       "        vertical-align: middle;\n",
       "    }\n",
       "\n",
       "    .dataframe tbody tr th {\n",
       "        vertical-align: top;\n",
       "    }\n",
       "\n",
       "    .dataframe thead th {\n",
       "        text-align: right;\n",
       "    }\n",
       "</style>\n",
       "<table border=\"1\" class=\"dataframe\">\n",
       "  <thead>\n",
       "    <tr style=\"text-align: right;\">\n",
       "      <th></th>\n",
       "      <th>Timestamp</th>\n",
       "      <th>Plant_ID</th>\n",
       "      <th>Soil_Moisture</th>\n",
       "      <th>Ambient_Temperature</th>\n",
       "      <th>Soil_Temperature</th>\n",
       "      <th>Humidity</th>\n",
       "      <th>Light_Intensity</th>\n",
       "      <th>Soil_pH</th>\n",
       "      <th>Nitrogen_Level</th>\n",
       "      <th>Phosphorus_Level</th>\n",
       "      <th>Potassium_Level</th>\n",
       "      <th>Chlorophyll_Content</th>\n",
       "      <th>Electrochemical_Signal</th>\n",
       "      <th>Plant_Health_Status</th>\n",
       "    </tr>\n",
       "  </thead>\n",
       "  <tbody>\n",
       "    <tr>\n",
       "      <th>0</th>\n",
       "      <td>2024-10-03 10:54:53.407995</td>\n",
       "      <td>1</td>\n",
       "      <td>27.521109</td>\n",
       "      <td>22.240245</td>\n",
       "      <td>21.900435</td>\n",
       "      <td>55.291904</td>\n",
       "      <td>556.172805</td>\n",
       "      <td>5.581955</td>\n",
       "      <td>10.003650</td>\n",
       "      <td>45.806852</td>\n",
       "      <td>39.076199</td>\n",
       "      <td>35.703006</td>\n",
       "      <td>0.941402</td>\n",
       "      <td>High Stress</td>\n",
       "    </tr>\n",
       "    <tr>\n",
       "      <th>1</th>\n",
       "      <td>2024-10-03 16:54:53.407995</td>\n",
       "      <td>1</td>\n",
       "      <td>14.835566</td>\n",
       "      <td>21.706763</td>\n",
       "      <td>18.680892</td>\n",
       "      <td>63.949181</td>\n",
       "      <td>596.136721</td>\n",
       "      <td>7.135705</td>\n",
       "      <td>30.712562</td>\n",
       "      <td>25.394393</td>\n",
       "      <td>17.944826</td>\n",
       "      <td>27.993296</td>\n",
       "      <td>0.164899</td>\n",
       "      <td>High Stress</td>\n",
       "    </tr>\n",
       "    <tr>\n",
       "      <th>2</th>\n",
       "      <td>2024-10-03 22:54:53.407995</td>\n",
       "      <td>1</td>\n",
       "      <td>17.086362</td>\n",
       "      <td>21.180946</td>\n",
       "      <td>15.392939</td>\n",
       "      <td>67.837956</td>\n",
       "      <td>591.124627</td>\n",
       "      <td>5.656852</td>\n",
       "      <td>29.337002</td>\n",
       "      <td>27.573892</td>\n",
       "      <td>35.706530</td>\n",
       "      <td>43.646308</td>\n",
       "      <td>1.081728</td>\n",
       "      <td>High Stress</td>\n",
       "    </tr>\n",
       "    <tr>\n",
       "      <th>3</th>\n",
       "      <td>2024-10-04 04:54:53.407995</td>\n",
       "      <td>1</td>\n",
       "      <td>15.336156</td>\n",
       "      <td>22.593302</td>\n",
       "      <td>22.778394</td>\n",
       "      <td>58.190811</td>\n",
       "      <td>241.412476</td>\n",
       "      <td>5.584523</td>\n",
       "      <td>16.966621</td>\n",
       "      <td>26.180705</td>\n",
       "      <td>26.257746</td>\n",
       "      <td>37.838095</td>\n",
       "      <td>1.186088</td>\n",
       "      <td>High Stress</td>\n",
       "    </tr>\n",
       "    <tr>\n",
       "      <th>4</th>\n",
       "      <td>2024-10-04 10:54:53.407995</td>\n",
       "      <td>1</td>\n",
       "      <td>39.822216</td>\n",
       "      <td>28.929001</td>\n",
       "      <td>18.100937</td>\n",
       "      <td>63.772036</td>\n",
       "      <td>444.493830</td>\n",
       "      <td>5.919707</td>\n",
       "      <td>10.944961</td>\n",
       "      <td>37.898907</td>\n",
       "      <td>37.654483</td>\n",
       "      <td>48.265812</td>\n",
       "      <td>1.609805</td>\n",
       "      <td>High Stress</td>\n",
       "    </tr>\n",
       "    <tr>\n",
       "      <th>...</th>\n",
       "      <td>...</td>\n",
       "      <td>...</td>\n",
       "      <td>...</td>\n",
       "      <td>...</td>\n",
       "      <td>...</td>\n",
       "      <td>...</td>\n",
       "      <td>...</td>\n",
       "      <td>...</td>\n",
       "      <td>...</td>\n",
       "      <td>...</td>\n",
       "      <td>...</td>\n",
       "      <td>...</td>\n",
       "      <td>...</td>\n",
       "      <td>...</td>\n",
       "    </tr>\n",
       "    <tr>\n",
       "      <th>1195</th>\n",
       "      <td>2024-11-01 04:54:53.493508</td>\n",
       "      <td>10</td>\n",
       "      <td>29.665780</td>\n",
       "      <td>27.605285</td>\n",
       "      <td>15.381699</td>\n",
       "      <td>54.668196</td>\n",
       "      <td>650.536854</td>\n",
       "      <td>5.715289</td>\n",
       "      <td>29.993107</td>\n",
       "      <td>14.914470</td>\n",
       "      <td>21.560747</td>\n",
       "      <td>24.273224</td>\n",
       "      <td>0.714553</td>\n",
       "      <td>Moderate Stress</td>\n",
       "    </tr>\n",
       "    <tr>\n",
       "      <th>1196</th>\n",
       "      <td>2024-11-01 10:54:53.493508</td>\n",
       "      <td>10</td>\n",
       "      <td>15.490782</td>\n",
       "      <td>22.108112</td>\n",
       "      <td>15.221033</td>\n",
       "      <td>61.243143</td>\n",
       "      <td>768.760787</td>\n",
       "      <td>5.958957</td>\n",
       "      <td>45.258678</td>\n",
       "      <td>25.216248</td>\n",
       "      <td>31.940717</td>\n",
       "      <td>30.930676</td>\n",
       "      <td>1.448029</td>\n",
       "      <td>High Stress</td>\n",
       "    </tr>\n",
       "    <tr>\n",
       "      <th>1197</th>\n",
       "      <td>2024-11-01 16:54:53.493508</td>\n",
       "      <td>10</td>\n",
       "      <td>23.495723</td>\n",
       "      <td>21.680240</td>\n",
       "      <td>15.499764</td>\n",
       "      <td>40.693671</td>\n",
       "      <td>293.643366</td>\n",
       "      <td>7.419157</td>\n",
       "      <td>38.351189</td>\n",
       "      <td>48.656078</td>\n",
       "      <td>28.473233</td>\n",
       "      <td>38.324484</td>\n",
       "      <td>0.880019</td>\n",
       "      <td>Moderate Stress</td>\n",
       "    </tr>\n",
       "    <tr>\n",
       "      <th>1198</th>\n",
       "      <td>2024-11-01 22:54:53.493508</td>\n",
       "      <td>10</td>\n",
       "      <td>30.971675</td>\n",
       "      <td>23.019488</td>\n",
       "      <td>21.934918</td>\n",
       "      <td>41.387107</td>\n",
       "      <td>492.952014</td>\n",
       "      <td>5.855767</td>\n",
       "      <td>49.402550</td>\n",
       "      <td>23.843971</td>\n",
       "      <td>19.750042</td>\n",
       "      <td>46.027529</td>\n",
       "      <td>0.344597</td>\n",
       "      <td>Healthy</td>\n",
       "    </tr>\n",
       "    <tr>\n",
       "      <th>1199</th>\n",
       "      <td>2024-11-02 04:54:53.493508</td>\n",
       "      <td>10</td>\n",
       "      <td>24.406357</td>\n",
       "      <td>25.724605</td>\n",
       "      <td>23.358573</td>\n",
       "      <td>47.505394</td>\n",
       "      <td>304.201566</td>\n",
       "      <td>6.122042</td>\n",
       "      <td>29.659287</td>\n",
       "      <td>34.372586</td>\n",
       "      <td>10.486062</td>\n",
       "      <td>41.977098</td>\n",
       "      <td>0.047541</td>\n",
       "      <td>Moderate Stress</td>\n",
       "    </tr>\n",
       "  </tbody>\n",
       "</table>\n",
       "<p>1200 rows × 14 columns</p>\n",
       "</div>"
      ],
      "text/plain": [
       "                       Timestamp  Plant_ID  Soil_Moisture  \\\n",
       "0     2024-10-03 10:54:53.407995         1      27.521109   \n",
       "1     2024-10-03 16:54:53.407995         1      14.835566   \n",
       "2     2024-10-03 22:54:53.407995         1      17.086362   \n",
       "3     2024-10-04 04:54:53.407995         1      15.336156   \n",
       "4     2024-10-04 10:54:53.407995         1      39.822216   \n",
       "...                          ...       ...            ...   \n",
       "1195  2024-11-01 04:54:53.493508        10      29.665780   \n",
       "1196  2024-11-01 10:54:53.493508        10      15.490782   \n",
       "1197  2024-11-01 16:54:53.493508        10      23.495723   \n",
       "1198  2024-11-01 22:54:53.493508        10      30.971675   \n",
       "1199  2024-11-02 04:54:53.493508        10      24.406357   \n",
       "\n",
       "      Ambient_Temperature  Soil_Temperature   Humidity  Light_Intensity  \\\n",
       "0               22.240245         21.900435  55.291904       556.172805   \n",
       "1               21.706763         18.680892  63.949181       596.136721   \n",
       "2               21.180946         15.392939  67.837956       591.124627   \n",
       "3               22.593302         22.778394  58.190811       241.412476   \n",
       "4               28.929001         18.100937  63.772036       444.493830   \n",
       "...                   ...               ...        ...              ...   \n",
       "1195            27.605285         15.381699  54.668196       650.536854   \n",
       "1196            22.108112         15.221033  61.243143       768.760787   \n",
       "1197            21.680240         15.499764  40.693671       293.643366   \n",
       "1198            23.019488         21.934918  41.387107       492.952014   \n",
       "1199            25.724605         23.358573  47.505394       304.201566   \n",
       "\n",
       "       Soil_pH  Nitrogen_Level  Phosphorus_Level  Potassium_Level  \\\n",
       "0     5.581955       10.003650         45.806852        39.076199   \n",
       "1     7.135705       30.712562         25.394393        17.944826   \n",
       "2     5.656852       29.337002         27.573892        35.706530   \n",
       "3     5.584523       16.966621         26.180705        26.257746   \n",
       "4     5.919707       10.944961         37.898907        37.654483   \n",
       "...        ...             ...               ...              ...   \n",
       "1195  5.715289       29.993107         14.914470        21.560747   \n",
       "1196  5.958957       45.258678         25.216248        31.940717   \n",
       "1197  7.419157       38.351189         48.656078        28.473233   \n",
       "1198  5.855767       49.402550         23.843971        19.750042   \n",
       "1199  6.122042       29.659287         34.372586        10.486062   \n",
       "\n",
       "      Chlorophyll_Content  Electrochemical_Signal Plant_Health_Status  \n",
       "0               35.703006                0.941402         High Stress  \n",
       "1               27.993296                0.164899         High Stress  \n",
       "2               43.646308                1.081728         High Stress  \n",
       "3               37.838095                1.186088         High Stress  \n",
       "4               48.265812                1.609805         High Stress  \n",
       "...                   ...                     ...                 ...  \n",
       "1195            24.273224                0.714553     Moderate Stress  \n",
       "1196            30.930676                1.448029         High Stress  \n",
       "1197            38.324484                0.880019     Moderate Stress  \n",
       "1198            46.027529                0.344597             Healthy  \n",
       "1199            41.977098                0.047541     Moderate Stress  \n",
       "\n",
       "[1200 rows x 14 columns]"
      ]
     },
     "execution_count": 6,
     "metadata": {},
     "output_type": "execute_result"
    }
   ],
   "source": [
    "df"
   ]
  },
  {
   "cell_type": "markdown",
   "id": "2b5712b5-01c2-4ec0-94bf-32a25867d685",
   "metadata": {},
   "source": [
    "# inspection"
   ]
  },
  {
   "cell_type": "code",
   "execution_count": 7,
   "id": "f4519984-5c3e-4ce3-8cfe-1225e6a2fa1f",
   "metadata": {},
   "outputs": [
    {
     "data": {
      "text/html": [
       "<div>\n",
       "<style scoped>\n",
       "    .dataframe tbody tr th:only-of-type {\n",
       "        vertical-align: middle;\n",
       "    }\n",
       "\n",
       "    .dataframe tbody tr th {\n",
       "        vertical-align: top;\n",
       "    }\n",
       "\n",
       "    .dataframe thead th {\n",
       "        text-align: right;\n",
       "    }\n",
       "</style>\n",
       "<table border=\"1\" class=\"dataframe\">\n",
       "  <thead>\n",
       "    <tr style=\"text-align: right;\">\n",
       "      <th></th>\n",
       "      <th>Timestamp</th>\n",
       "      <th>Plant_ID</th>\n",
       "      <th>Soil_Moisture</th>\n",
       "      <th>Ambient_Temperature</th>\n",
       "      <th>Soil_Temperature</th>\n",
       "      <th>Humidity</th>\n",
       "      <th>Light_Intensity</th>\n",
       "      <th>Soil_pH</th>\n",
       "      <th>Nitrogen_Level</th>\n",
       "      <th>Phosphorus_Level</th>\n",
       "      <th>Potassium_Level</th>\n",
       "      <th>Chlorophyll_Content</th>\n",
       "      <th>Electrochemical_Signal</th>\n",
       "      <th>Plant_Health_Status</th>\n",
       "    </tr>\n",
       "  </thead>\n",
       "  <tbody>\n",
       "    <tr>\n",
       "      <th>0</th>\n",
       "      <td>2024-10-03 10:54:53.407995</td>\n",
       "      <td>1</td>\n",
       "      <td>27.521109</td>\n",
       "      <td>22.240245</td>\n",
       "      <td>21.900435</td>\n",
       "      <td>55.291904</td>\n",
       "      <td>556.172805</td>\n",
       "      <td>5.581955</td>\n",
       "      <td>10.003650</td>\n",
       "      <td>45.806852</td>\n",
       "      <td>39.076199</td>\n",
       "      <td>35.703006</td>\n",
       "      <td>0.941402</td>\n",
       "      <td>High Stress</td>\n",
       "    </tr>\n",
       "    <tr>\n",
       "      <th>1</th>\n",
       "      <td>2024-10-03 16:54:53.407995</td>\n",
       "      <td>1</td>\n",
       "      <td>14.835566</td>\n",
       "      <td>21.706763</td>\n",
       "      <td>18.680892</td>\n",
       "      <td>63.949181</td>\n",
       "      <td>596.136721</td>\n",
       "      <td>7.135705</td>\n",
       "      <td>30.712562</td>\n",
       "      <td>25.394393</td>\n",
       "      <td>17.944826</td>\n",
       "      <td>27.993296</td>\n",
       "      <td>0.164899</td>\n",
       "      <td>High Stress</td>\n",
       "    </tr>\n",
       "    <tr>\n",
       "      <th>2</th>\n",
       "      <td>2024-10-03 22:54:53.407995</td>\n",
       "      <td>1</td>\n",
       "      <td>17.086362</td>\n",
       "      <td>21.180946</td>\n",
       "      <td>15.392939</td>\n",
       "      <td>67.837956</td>\n",
       "      <td>591.124627</td>\n",
       "      <td>5.656852</td>\n",
       "      <td>29.337002</td>\n",
       "      <td>27.573892</td>\n",
       "      <td>35.706530</td>\n",
       "      <td>43.646308</td>\n",
       "      <td>1.081728</td>\n",
       "      <td>High Stress</td>\n",
       "    </tr>\n",
       "    <tr>\n",
       "      <th>3</th>\n",
       "      <td>2024-10-04 04:54:53.407995</td>\n",
       "      <td>1</td>\n",
       "      <td>15.336156</td>\n",
       "      <td>22.593302</td>\n",
       "      <td>22.778394</td>\n",
       "      <td>58.190811</td>\n",
       "      <td>241.412476</td>\n",
       "      <td>5.584523</td>\n",
       "      <td>16.966621</td>\n",
       "      <td>26.180705</td>\n",
       "      <td>26.257746</td>\n",
       "      <td>37.838095</td>\n",
       "      <td>1.186088</td>\n",
       "      <td>High Stress</td>\n",
       "    </tr>\n",
       "    <tr>\n",
       "      <th>4</th>\n",
       "      <td>2024-10-04 10:54:53.407995</td>\n",
       "      <td>1</td>\n",
       "      <td>39.822216</td>\n",
       "      <td>28.929001</td>\n",
       "      <td>18.100937</td>\n",
       "      <td>63.772036</td>\n",
       "      <td>444.493830</td>\n",
       "      <td>5.919707</td>\n",
       "      <td>10.944961</td>\n",
       "      <td>37.898907</td>\n",
       "      <td>37.654483</td>\n",
       "      <td>48.265812</td>\n",
       "      <td>1.609805</td>\n",
       "      <td>High Stress</td>\n",
       "    </tr>\n",
       "  </tbody>\n",
       "</table>\n",
       "</div>"
      ],
      "text/plain": [
       "                    Timestamp  Plant_ID  Soil_Moisture  Ambient_Temperature  \\\n",
       "0  2024-10-03 10:54:53.407995         1      27.521109            22.240245   \n",
       "1  2024-10-03 16:54:53.407995         1      14.835566            21.706763   \n",
       "2  2024-10-03 22:54:53.407995         1      17.086362            21.180946   \n",
       "3  2024-10-04 04:54:53.407995         1      15.336156            22.593302   \n",
       "4  2024-10-04 10:54:53.407995         1      39.822216            28.929001   \n",
       "\n",
       "   Soil_Temperature   Humidity  Light_Intensity   Soil_pH  Nitrogen_Level  \\\n",
       "0         21.900435  55.291904       556.172805  5.581955       10.003650   \n",
       "1         18.680892  63.949181       596.136721  7.135705       30.712562   \n",
       "2         15.392939  67.837956       591.124627  5.656852       29.337002   \n",
       "3         22.778394  58.190811       241.412476  5.584523       16.966621   \n",
       "4         18.100937  63.772036       444.493830  5.919707       10.944961   \n",
       "\n",
       "   Phosphorus_Level  Potassium_Level  Chlorophyll_Content  \\\n",
       "0         45.806852        39.076199            35.703006   \n",
       "1         25.394393        17.944826            27.993296   \n",
       "2         27.573892        35.706530            43.646308   \n",
       "3         26.180705        26.257746            37.838095   \n",
       "4         37.898907        37.654483            48.265812   \n",
       "\n",
       "   Electrochemical_Signal Plant_Health_Status  \n",
       "0                0.941402         High Stress  \n",
       "1                0.164899         High Stress  \n",
       "2                1.081728         High Stress  \n",
       "3                1.186088         High Stress  \n",
       "4                1.609805         High Stress  "
      ]
     },
     "execution_count": 7,
     "metadata": {},
     "output_type": "execute_result"
    }
   ],
   "source": [
    "df.head()"
   ]
  },
  {
   "cell_type": "code",
   "execution_count": 8,
   "id": "340fd192-0a98-4647-8c88-7b3dfbaf504c",
   "metadata": {},
   "outputs": [
    {
     "data": {
      "text/html": [
       "<div>\n",
       "<style scoped>\n",
       "    .dataframe tbody tr th:only-of-type {\n",
       "        vertical-align: middle;\n",
       "    }\n",
       "\n",
       "    .dataframe tbody tr th {\n",
       "        vertical-align: top;\n",
       "    }\n",
       "\n",
       "    .dataframe thead th {\n",
       "        text-align: right;\n",
       "    }\n",
       "</style>\n",
       "<table border=\"1\" class=\"dataframe\">\n",
       "  <thead>\n",
       "    <tr style=\"text-align: right;\">\n",
       "      <th></th>\n",
       "      <th>Timestamp</th>\n",
       "      <th>Plant_ID</th>\n",
       "      <th>Soil_Moisture</th>\n",
       "      <th>Ambient_Temperature</th>\n",
       "      <th>Soil_Temperature</th>\n",
       "      <th>Humidity</th>\n",
       "      <th>Light_Intensity</th>\n",
       "      <th>Soil_pH</th>\n",
       "      <th>Nitrogen_Level</th>\n",
       "      <th>Phosphorus_Level</th>\n",
       "      <th>Potassium_Level</th>\n",
       "      <th>Chlorophyll_Content</th>\n",
       "      <th>Electrochemical_Signal</th>\n",
       "      <th>Plant_Health_Status</th>\n",
       "    </tr>\n",
       "  </thead>\n",
       "  <tbody>\n",
       "    <tr>\n",
       "      <th>1195</th>\n",
       "      <td>2024-11-01 04:54:53.493508</td>\n",
       "      <td>10</td>\n",
       "      <td>29.665780</td>\n",
       "      <td>27.605285</td>\n",
       "      <td>15.381699</td>\n",
       "      <td>54.668196</td>\n",
       "      <td>650.536854</td>\n",
       "      <td>5.715289</td>\n",
       "      <td>29.993107</td>\n",
       "      <td>14.914470</td>\n",
       "      <td>21.560747</td>\n",
       "      <td>24.273224</td>\n",
       "      <td>0.714553</td>\n",
       "      <td>Moderate Stress</td>\n",
       "    </tr>\n",
       "    <tr>\n",
       "      <th>1196</th>\n",
       "      <td>2024-11-01 10:54:53.493508</td>\n",
       "      <td>10</td>\n",
       "      <td>15.490782</td>\n",
       "      <td>22.108112</td>\n",
       "      <td>15.221033</td>\n",
       "      <td>61.243143</td>\n",
       "      <td>768.760787</td>\n",
       "      <td>5.958957</td>\n",
       "      <td>45.258678</td>\n",
       "      <td>25.216248</td>\n",
       "      <td>31.940717</td>\n",
       "      <td>30.930676</td>\n",
       "      <td>1.448029</td>\n",
       "      <td>High Stress</td>\n",
       "    </tr>\n",
       "    <tr>\n",
       "      <th>1197</th>\n",
       "      <td>2024-11-01 16:54:53.493508</td>\n",
       "      <td>10</td>\n",
       "      <td>23.495723</td>\n",
       "      <td>21.680240</td>\n",
       "      <td>15.499764</td>\n",
       "      <td>40.693671</td>\n",
       "      <td>293.643366</td>\n",
       "      <td>7.419157</td>\n",
       "      <td>38.351189</td>\n",
       "      <td>48.656078</td>\n",
       "      <td>28.473233</td>\n",
       "      <td>38.324484</td>\n",
       "      <td>0.880019</td>\n",
       "      <td>Moderate Stress</td>\n",
       "    </tr>\n",
       "    <tr>\n",
       "      <th>1198</th>\n",
       "      <td>2024-11-01 22:54:53.493508</td>\n",
       "      <td>10</td>\n",
       "      <td>30.971675</td>\n",
       "      <td>23.019488</td>\n",
       "      <td>21.934918</td>\n",
       "      <td>41.387107</td>\n",
       "      <td>492.952014</td>\n",
       "      <td>5.855767</td>\n",
       "      <td>49.402550</td>\n",
       "      <td>23.843971</td>\n",
       "      <td>19.750042</td>\n",
       "      <td>46.027529</td>\n",
       "      <td>0.344597</td>\n",
       "      <td>Healthy</td>\n",
       "    </tr>\n",
       "    <tr>\n",
       "      <th>1199</th>\n",
       "      <td>2024-11-02 04:54:53.493508</td>\n",
       "      <td>10</td>\n",
       "      <td>24.406357</td>\n",
       "      <td>25.724605</td>\n",
       "      <td>23.358573</td>\n",
       "      <td>47.505394</td>\n",
       "      <td>304.201566</td>\n",
       "      <td>6.122042</td>\n",
       "      <td>29.659287</td>\n",
       "      <td>34.372586</td>\n",
       "      <td>10.486062</td>\n",
       "      <td>41.977098</td>\n",
       "      <td>0.047541</td>\n",
       "      <td>Moderate Stress</td>\n",
       "    </tr>\n",
       "  </tbody>\n",
       "</table>\n",
       "</div>"
      ],
      "text/plain": [
       "                       Timestamp  Plant_ID  Soil_Moisture  \\\n",
       "1195  2024-11-01 04:54:53.493508        10      29.665780   \n",
       "1196  2024-11-01 10:54:53.493508        10      15.490782   \n",
       "1197  2024-11-01 16:54:53.493508        10      23.495723   \n",
       "1198  2024-11-01 22:54:53.493508        10      30.971675   \n",
       "1199  2024-11-02 04:54:53.493508        10      24.406357   \n",
       "\n",
       "      Ambient_Temperature  Soil_Temperature   Humidity  Light_Intensity  \\\n",
       "1195            27.605285         15.381699  54.668196       650.536854   \n",
       "1196            22.108112         15.221033  61.243143       768.760787   \n",
       "1197            21.680240         15.499764  40.693671       293.643366   \n",
       "1198            23.019488         21.934918  41.387107       492.952014   \n",
       "1199            25.724605         23.358573  47.505394       304.201566   \n",
       "\n",
       "       Soil_pH  Nitrogen_Level  Phosphorus_Level  Potassium_Level  \\\n",
       "1195  5.715289       29.993107         14.914470        21.560747   \n",
       "1196  5.958957       45.258678         25.216248        31.940717   \n",
       "1197  7.419157       38.351189         48.656078        28.473233   \n",
       "1198  5.855767       49.402550         23.843971        19.750042   \n",
       "1199  6.122042       29.659287         34.372586        10.486062   \n",
       "\n",
       "      Chlorophyll_Content  Electrochemical_Signal Plant_Health_Status  \n",
       "1195            24.273224                0.714553     Moderate Stress  \n",
       "1196            30.930676                1.448029         High Stress  \n",
       "1197            38.324484                0.880019     Moderate Stress  \n",
       "1198            46.027529                0.344597             Healthy  \n",
       "1199            41.977098                0.047541     Moderate Stress  "
      ]
     },
     "execution_count": 8,
     "metadata": {},
     "output_type": "execute_result"
    }
   ],
   "source": [
    "df.tail()"
   ]
  },
  {
   "cell_type": "code",
   "execution_count": 9,
   "id": "225127b1-51b5-4687-99ad-0f7cc8c55812",
   "metadata": {},
   "outputs": [
    {
     "data": {
      "text/html": [
       "<div>\n",
       "<style scoped>\n",
       "    .dataframe tbody tr th:only-of-type {\n",
       "        vertical-align: middle;\n",
       "    }\n",
       "\n",
       "    .dataframe tbody tr th {\n",
       "        vertical-align: top;\n",
       "    }\n",
       "\n",
       "    .dataframe thead th {\n",
       "        text-align: right;\n",
       "    }\n",
       "</style>\n",
       "<table border=\"1\" class=\"dataframe\">\n",
       "  <thead>\n",
       "    <tr style=\"text-align: right;\">\n",
       "      <th></th>\n",
       "      <th>Plant_ID</th>\n",
       "      <th>Soil_Moisture</th>\n",
       "      <th>Ambient_Temperature</th>\n",
       "      <th>Soil_Temperature</th>\n",
       "      <th>Humidity</th>\n",
       "      <th>Light_Intensity</th>\n",
       "      <th>Soil_pH</th>\n",
       "      <th>Nitrogen_Level</th>\n",
       "      <th>Phosphorus_Level</th>\n",
       "      <th>Potassium_Level</th>\n",
       "      <th>Chlorophyll_Content</th>\n",
       "      <th>Electrochemical_Signal</th>\n",
       "    </tr>\n",
       "  </thead>\n",
       "  <tbody>\n",
       "    <tr>\n",
       "      <th>count</th>\n",
       "      <td>1200.000000</td>\n",
       "      <td>1200.000000</td>\n",
       "      <td>1200.000000</td>\n",
       "      <td>1200.000000</td>\n",
       "      <td>1200.000000</td>\n",
       "      <td>1200.000000</td>\n",
       "      <td>1200.000000</td>\n",
       "      <td>1200.000000</td>\n",
       "      <td>1200.000000</td>\n",
       "      <td>1200.000000</td>\n",
       "      <td>1200.000000</td>\n",
       "      <td>1200.000000</td>\n",
       "    </tr>\n",
       "    <tr>\n",
       "      <th>mean</th>\n",
       "      <td>5.500000</td>\n",
       "      <td>25.106918</td>\n",
       "      <td>23.999130</td>\n",
       "      <td>19.957794</td>\n",
       "      <td>54.853165</td>\n",
       "      <td>612.637265</td>\n",
       "      <td>6.524102</td>\n",
       "      <td>30.106751</td>\n",
       "      <td>30.264484</td>\n",
       "      <td>30.112088</td>\n",
       "      <td>34.749591</td>\n",
       "      <td>0.987764</td>\n",
       "    </tr>\n",
       "    <tr>\n",
       "      <th>std</th>\n",
       "      <td>2.873479</td>\n",
       "      <td>8.677725</td>\n",
       "      <td>3.441561</td>\n",
       "      <td>2.932073</td>\n",
       "      <td>8.784916</td>\n",
       "      <td>228.318853</td>\n",
       "      <td>0.581755</td>\n",
       "      <td>11.514396</td>\n",
       "      <td>11.466846</td>\n",
       "      <td>11.668085</td>\n",
       "      <td>8.766995</td>\n",
       "      <td>0.575116</td>\n",
       "    </tr>\n",
       "    <tr>\n",
       "      <th>min</th>\n",
       "      <td>1.000000</td>\n",
       "      <td>10.000724</td>\n",
       "      <td>18.001993</td>\n",
       "      <td>15.003710</td>\n",
       "      <td>40.028758</td>\n",
       "      <td>200.615482</td>\n",
       "      <td>5.507392</td>\n",
       "      <td>10.003650</td>\n",
       "      <td>10.017690</td>\n",
       "      <td>10.000606</td>\n",
       "      <td>20.025511</td>\n",
       "      <td>0.002376</td>\n",
       "    </tr>\n",
       "    <tr>\n",
       "      <th>25%</th>\n",
       "      <td>3.000000</td>\n",
       "      <td>17.131893</td>\n",
       "      <td>21.101766</td>\n",
       "      <td>17.353027</td>\n",
       "      <td>47.019694</td>\n",
       "      <td>416.878983</td>\n",
       "      <td>6.026042</td>\n",
       "      <td>20.249774</td>\n",
       "      <td>20.894445</td>\n",
       "      <td>19.585561</td>\n",
       "      <td>27.463350</td>\n",
       "      <td>0.487982</td>\n",
       "    </tr>\n",
       "    <tr>\n",
       "      <th>50%</th>\n",
       "      <td>5.500000</td>\n",
       "      <td>25.168333</td>\n",
       "      <td>23.889044</td>\n",
       "      <td>19.911473</td>\n",
       "      <td>54.692069</td>\n",
       "      <td>617.240221</td>\n",
       "      <td>6.540524</td>\n",
       "      <td>30.138590</td>\n",
       "      <td>30.019385</td>\n",
       "      <td>30.495054</td>\n",
       "      <td>34.433427</td>\n",
       "      <td>0.981647</td>\n",
       "    </tr>\n",
       "    <tr>\n",
       "      <th>75%</th>\n",
       "      <td>8.000000</td>\n",
       "      <td>32.370231</td>\n",
       "      <td>27.042634</td>\n",
       "      <td>22.596851</td>\n",
       "      <td>62.451053</td>\n",
       "      <td>811.474690</td>\n",
       "      <td>7.030039</td>\n",
       "      <td>40.184737</td>\n",
       "      <td>40.131459</td>\n",
       "      <td>40.108296</td>\n",
       "      <td>42.232637</td>\n",
       "      <td>1.473142</td>\n",
       "    </tr>\n",
       "    <tr>\n",
       "      <th>max</th>\n",
       "      <td>10.000000</td>\n",
       "      <td>39.993164</td>\n",
       "      <td>29.990886</td>\n",
       "      <td>24.995929</td>\n",
       "      <td>69.968871</td>\n",
       "      <td>999.856262</td>\n",
       "      <td>7.497823</td>\n",
       "      <td>49.951136</td>\n",
       "      <td>49.980700</td>\n",
       "      <td>49.981945</td>\n",
       "      <td>49.990811</td>\n",
       "      <td>1.996116</td>\n",
       "    </tr>\n",
       "  </tbody>\n",
       "</table>\n",
       "</div>"
      ],
      "text/plain": [
       "          Plant_ID  Soil_Moisture  Ambient_Temperature  Soil_Temperature  \\\n",
       "count  1200.000000    1200.000000          1200.000000       1200.000000   \n",
       "mean      5.500000      25.106918            23.999130         19.957794   \n",
       "std       2.873479       8.677725             3.441561          2.932073   \n",
       "min       1.000000      10.000724            18.001993         15.003710   \n",
       "25%       3.000000      17.131893            21.101766         17.353027   \n",
       "50%       5.500000      25.168333            23.889044         19.911473   \n",
       "75%       8.000000      32.370231            27.042634         22.596851   \n",
       "max      10.000000      39.993164            29.990886         24.995929   \n",
       "\n",
       "          Humidity  Light_Intensity      Soil_pH  Nitrogen_Level  \\\n",
       "count  1200.000000      1200.000000  1200.000000     1200.000000   \n",
       "mean     54.853165       612.637265     6.524102       30.106751   \n",
       "std       8.784916       228.318853     0.581755       11.514396   \n",
       "min      40.028758       200.615482     5.507392       10.003650   \n",
       "25%      47.019694       416.878983     6.026042       20.249774   \n",
       "50%      54.692069       617.240221     6.540524       30.138590   \n",
       "75%      62.451053       811.474690     7.030039       40.184737   \n",
       "max      69.968871       999.856262     7.497823       49.951136   \n",
       "\n",
       "       Phosphorus_Level  Potassium_Level  Chlorophyll_Content  \\\n",
       "count       1200.000000      1200.000000          1200.000000   \n",
       "mean          30.264484        30.112088            34.749591   \n",
       "std           11.466846        11.668085             8.766995   \n",
       "min           10.017690        10.000606            20.025511   \n",
       "25%           20.894445        19.585561            27.463350   \n",
       "50%           30.019385        30.495054            34.433427   \n",
       "75%           40.131459        40.108296            42.232637   \n",
       "max           49.980700        49.981945            49.990811   \n",
       "\n",
       "       Electrochemical_Signal  \n",
       "count             1200.000000  \n",
       "mean                 0.987764  \n",
       "std                  0.575116  \n",
       "min                  0.002376  \n",
       "25%                  0.487982  \n",
       "50%                  0.981647  \n",
       "75%                  1.473142  \n",
       "max                  1.996116  "
      ]
     },
     "execution_count": 9,
     "metadata": {},
     "output_type": "execute_result"
    }
   ],
   "source": [
    "df.describe()"
   ]
  },
  {
   "cell_type": "code",
   "execution_count": 10,
   "id": "bc6ba933-fcb9-42d4-94a6-a0eb227e8b94",
   "metadata": {},
   "outputs": [
    {
     "data": {
      "text/html": [
       "<div>\n",
       "<style scoped>\n",
       "    .dataframe tbody tr th:only-of-type {\n",
       "        vertical-align: middle;\n",
       "    }\n",
       "\n",
       "    .dataframe tbody tr th {\n",
       "        vertical-align: top;\n",
       "    }\n",
       "\n",
       "    .dataframe thead th {\n",
       "        text-align: right;\n",
       "    }\n",
       "</style>\n",
       "<table border=\"1\" class=\"dataframe\">\n",
       "  <thead>\n",
       "    <tr style=\"text-align: right;\">\n",
       "      <th></th>\n",
       "      <th>Timestamp</th>\n",
       "      <th>Plant_ID</th>\n",
       "      <th>Soil_Moisture</th>\n",
       "      <th>Ambient_Temperature</th>\n",
       "      <th>Soil_Temperature</th>\n",
       "      <th>Humidity</th>\n",
       "      <th>Light_Intensity</th>\n",
       "      <th>Soil_pH</th>\n",
       "      <th>Nitrogen_Level</th>\n",
       "      <th>Phosphorus_Level</th>\n",
       "      <th>Potassium_Level</th>\n",
       "      <th>Chlorophyll_Content</th>\n",
       "      <th>Electrochemical_Signal</th>\n",
       "      <th>Plant_Health_Status</th>\n",
       "    </tr>\n",
       "  </thead>\n",
       "  <tbody>\n",
       "    <tr>\n",
       "      <th>433</th>\n",
       "      <td>2024-10-21 16:54:53.449536</td>\n",
       "      <td>4</td>\n",
       "      <td>32.010914</td>\n",
       "      <td>20.762532</td>\n",
       "      <td>17.894828</td>\n",
       "      <td>40.865447</td>\n",
       "      <td>996.073556</td>\n",
       "      <td>6.997675</td>\n",
       "      <td>41.838564</td>\n",
       "      <td>16.237139</td>\n",
       "      <td>24.677485</td>\n",
       "      <td>31.244859</td>\n",
       "      <td>0.054853</td>\n",
       "      <td>Healthy</td>\n",
       "    </tr>\n",
       "  </tbody>\n",
       "</table>\n",
       "</div>"
      ],
      "text/plain": [
       "                      Timestamp  Plant_ID  Soil_Moisture  Ambient_Temperature  \\\n",
       "433  2024-10-21 16:54:53.449536         4      32.010914            20.762532   \n",
       "\n",
       "     Soil_Temperature   Humidity  Light_Intensity   Soil_pH  Nitrogen_Level  \\\n",
       "433         17.894828  40.865447       996.073556  6.997675       41.838564   \n",
       "\n",
       "     Phosphorus_Level  Potassium_Level  Chlorophyll_Content  \\\n",
       "433         16.237139        24.677485            31.244859   \n",
       "\n",
       "     Electrochemical_Signal Plant_Health_Status  \n",
       "433                0.054853             Healthy  "
      ]
     },
     "execution_count": 10,
     "metadata": {},
     "output_type": "execute_result"
    }
   ],
   "source": [
    "df.sample()"
   ]
  },
  {
   "cell_type": "code",
   "execution_count": 11,
   "id": "9675d56d-7c5c-4d1b-8aef-51c58ed98ed6",
   "metadata": {},
   "outputs": [
    {
     "name": "stdout",
     "output_type": "stream",
     "text": [
      "<class 'pandas.core.frame.DataFrame'>\n",
      "RangeIndex: 1200 entries, 0 to 1199\n",
      "Data columns (total 14 columns):\n",
      " #   Column                  Non-Null Count  Dtype  \n",
      "---  ------                  --------------  -----  \n",
      " 0   Timestamp               1200 non-null   object \n",
      " 1   Plant_ID                1200 non-null   int64  \n",
      " 2   Soil_Moisture           1200 non-null   float64\n",
      " 3   Ambient_Temperature     1200 non-null   float64\n",
      " 4   Soil_Temperature        1200 non-null   float64\n",
      " 5   Humidity                1200 non-null   float64\n",
      " 6   Light_Intensity         1200 non-null   float64\n",
      " 7   Soil_pH                 1200 non-null   float64\n",
      " 8   Nitrogen_Level          1200 non-null   float64\n",
      " 9   Phosphorus_Level        1200 non-null   float64\n",
      " 10  Potassium_Level         1200 non-null   float64\n",
      " 11  Chlorophyll_Content     1200 non-null   float64\n",
      " 12  Electrochemical_Signal  1200 non-null   float64\n",
      " 13  Plant_Health_Status     1200 non-null   object \n",
      "dtypes: float64(11), int64(1), object(2)\n",
      "memory usage: 131.4+ KB\n"
     ]
    }
   ],
   "source": [
    "df.info()"
   ]
  },
  {
   "cell_type": "code",
   "execution_count": 12,
   "id": "ffe95316-7478-4615-87b0-a6d83c5b9d4e",
   "metadata": {},
   "outputs": [
    {
     "data": {
      "text/plain": [
       "Index(['Timestamp', 'Plant_ID', 'Soil_Moisture', 'Ambient_Temperature',\n",
       "       'Soil_Temperature', 'Humidity', 'Light_Intensity', 'Soil_pH',\n",
       "       'Nitrogen_Level', 'Phosphorus_Level', 'Potassium_Level',\n",
       "       'Chlorophyll_Content', 'Electrochemical_Signal', 'Plant_Health_Status'],\n",
       "      dtype='object')"
      ]
     },
     "execution_count": 12,
     "metadata": {},
     "output_type": "execute_result"
    }
   ],
   "source": [
    "df.columns"
   ]
  },
  {
   "cell_type": "code",
   "execution_count": 13,
   "id": "06a2aa9e-2495-4f8a-9a31-10246762a300",
   "metadata": {},
   "outputs": [
    {
     "data": {
      "text/plain": [
       "Timestamp                  object\n",
       "Plant_ID                    int64\n",
       "Soil_Moisture             float64\n",
       "Ambient_Temperature       float64\n",
       "Soil_Temperature          float64\n",
       "Humidity                  float64\n",
       "Light_Intensity           float64\n",
       "Soil_pH                   float64\n",
       "Nitrogen_Level            float64\n",
       "Phosphorus_Level          float64\n",
       "Potassium_Level           float64\n",
       "Chlorophyll_Content       float64\n",
       "Electrochemical_Signal    float64\n",
       "Plant_Health_Status        object\n",
       "dtype: object"
      ]
     },
     "execution_count": 13,
     "metadata": {},
     "output_type": "execute_result"
    }
   ],
   "source": [
    "df.dtypes"
   ]
  },
  {
   "cell_type": "code",
   "execution_count": null,
   "id": "7997fb2c-0450-4a33-b38d-cb902dc14b88",
   "metadata": {},
   "outputs": [],
   "source": []
  },
  {
   "cell_type": "code",
   "execution_count": 14,
   "id": "2e16faa9-08ad-4b03-891f-3ac14cc1b70b",
   "metadata": {},
   "outputs": [
    {
     "data": {
      "text/plain": [
       "(1200, 14)"
      ]
     },
     "execution_count": 14,
     "metadata": {},
     "output_type": "execute_result"
    }
   ],
   "source": [
    "df.shape"
   ]
  },
  {
   "cell_type": "markdown",
   "id": "ed4a0bc1-23f6-4fd3-b4e1-12c123094432",
   "metadata": {},
   "source": [
    "# preprocessing"
   ]
  },
  {
   "cell_type": "code",
   "execution_count": 15,
   "id": "258d458e-41bb-48d7-8107-2b497ba9e9c1",
   "metadata": {},
   "outputs": [
    {
     "data": {
      "text/plain": [
       "Timestamp                 0\n",
       "Plant_ID                  0\n",
       "Soil_Moisture             0\n",
       "Ambient_Temperature       0\n",
       "Soil_Temperature          0\n",
       "Humidity                  0\n",
       "Light_Intensity           0\n",
       "Soil_pH                   0\n",
       "Nitrogen_Level            0\n",
       "Phosphorus_Level          0\n",
       "Potassium_Level           0\n",
       "Chlorophyll_Content       0\n",
       "Electrochemical_Signal    0\n",
       "Plant_Health_Status       0\n",
       "dtype: int64"
      ]
     },
     "execution_count": 15,
     "metadata": {},
     "output_type": "execute_result"
    }
   ],
   "source": [
    "df.isna().sum()"
   ]
  },
  {
   "cell_type": "code",
   "execution_count": 16,
   "id": "268a7407-1974-4a3d-b650-26bad791d4f2",
   "metadata": {},
   "outputs": [
    {
     "data": {
      "text/plain": [
       "(1200, 14)"
      ]
     },
     "execution_count": 16,
     "metadata": {},
     "output_type": "execute_result"
    }
   ],
   "source": [
    "df.shape"
   ]
  },
  {
   "cell_type": "markdown",
   "id": "fec0561f-ff98-4228-871d-2a3002bfeeb2",
   "metadata": {},
   "source": [
    "# Encoding"
   ]
  },
  {
   "cell_type": "code",
   "execution_count": 17,
   "id": "691f4d3b-b57e-44dd-8f72-0959b6a2db84",
   "metadata": {},
   "outputs": [],
   "source": [
    "df.drop('Timestamp',axis=1,inplace=True)"
   ]
  },
  {
   "cell_type": "code",
   "execution_count": 18,
   "id": "2e9d9e8d-5139-4667-916b-e5e21f74a98b",
   "metadata": {},
   "outputs": [],
   "source": [
    "df.drop('Plant_ID',axis=1,inplace=True)"
   ]
  },
  {
   "cell_type": "code",
   "execution_count": 19,
   "id": "be27d898-7009-43d9-bb66-fa2394f4a023",
   "metadata": {},
   "outputs": [
    {
     "data": {
      "text/plain": [
       "Soil_Moisture             float64\n",
       "Ambient_Temperature       float64\n",
       "Soil_Temperature          float64\n",
       "Humidity                  float64\n",
       "Light_Intensity           float64\n",
       "Soil_pH                   float64\n",
       "Nitrogen_Level            float64\n",
       "Phosphorus_Level          float64\n",
       "Potassium_Level           float64\n",
       "Chlorophyll_Content       float64\n",
       "Electrochemical_Signal    float64\n",
       "Plant_Health_Status        object\n",
       "dtype: object"
      ]
     },
     "execution_count": 19,
     "metadata": {},
     "output_type": "execute_result"
    }
   ],
   "source": [
    "df.dtypes"
   ]
  },
  {
   "cell_type": "code",
   "execution_count": 20,
   "id": "52eaebe0-cc84-4ef2-a55e-3e96f9a6a867",
   "metadata": {},
   "outputs": [
    {
     "data": {
      "text/plain": [
       "array(['High Stress', 'Moderate Stress', 'Healthy'], dtype=object)"
      ]
     },
     "execution_count": 20,
     "metadata": {},
     "output_type": "execute_result"
    }
   ],
   "source": [
    "df['Plant_Health_Status'].unique()"
   ]
  },
  {
   "cell_type": "code",
   "execution_count": 21,
   "id": "6411ee38-e7f4-483f-b54e-912919a4154c",
   "metadata": {},
   "outputs": [
    {
     "data": {
      "text/plain": [
       "Plant_Health_Status\n",
       "High Stress        500\n",
       "Moderate Stress    401\n",
       "Healthy            299\n",
       "Name: count, dtype: int64"
      ]
     },
     "execution_count": 21,
     "metadata": {},
     "output_type": "execute_result"
    }
   ],
   "source": [
    "df['Plant_Health_Status'].value_counts()"
   ]
  },
  {
   "cell_type": "code",
   "execution_count": 22,
   "id": "47cc02ad-0c37-4116-a027-c8a0e3ca830c",
   "metadata": {},
   "outputs": [],
   "source": [
    "from sklearn.preprocessing import LabelEncoder\n",
    "lb=LabelEncoder()\n",
    "df['Plant_Health_Status']=lb.fit_transform(df['Plant_Health_Status'])"
   ]
  },
  {
   "cell_type": "code",
   "execution_count": 23,
   "id": "336022c1-4853-4650-9287-5bc0dee87503",
   "metadata": {},
   "outputs": [
    {
     "data": {
      "text/plain": [
       "array([1, 2, 0])"
      ]
     },
     "execution_count": 23,
     "metadata": {},
     "output_type": "execute_result"
    }
   ],
   "source": [
    "df['Plant_Health_Status'].unique()"
   ]
  },
  {
   "cell_type": "code",
   "execution_count": 24,
   "id": "6f45fe78-cfe4-4efa-9925-ef37439b0cf2",
   "metadata": {},
   "outputs": [
    {
     "data": {
      "text/plain": [
       "Soil_Moisture             float64\n",
       "Ambient_Temperature       float64\n",
       "Soil_Temperature          float64\n",
       "Humidity                  float64\n",
       "Light_Intensity           float64\n",
       "Soil_pH                   float64\n",
       "Nitrogen_Level            float64\n",
       "Phosphorus_Level          float64\n",
       "Potassium_Level           float64\n",
       "Chlorophyll_Content       float64\n",
       "Electrochemical_Signal    float64\n",
       "Plant_Health_Status         int32\n",
       "dtype: object"
      ]
     },
     "execution_count": 24,
     "metadata": {},
     "output_type": "execute_result"
    }
   ],
   "source": [
    "df.dtypes"
   ]
  },
  {
   "cell_type": "code",
   "execution_count": 25,
   "id": "2830d76e-e849-4735-a251-8d1ea54d08ed",
   "metadata": {},
   "outputs": [],
   "source": [
    "phs=df['Plant_Health_Status'].value_counts()"
   ]
  },
  {
   "cell_type": "code",
   "execution_count": 26,
   "id": "97474415-8b5a-41c0-bcf6-dcd3415d8f1e",
   "metadata": {},
   "outputs": [],
   "source": [
    "x=phs.index"
   ]
  },
  {
   "cell_type": "code",
   "execution_count": 27,
   "id": "72e0c55f-5141-47f3-9227-f6cba2b4357a",
   "metadata": {},
   "outputs": [],
   "source": [
    "y=phs.values"
   ]
  },
  {
   "cell_type": "code",
   "execution_count": 28,
   "id": "ea319dbe-0473-4eca-9dbc-19b337cb010c",
   "metadata": {},
   "outputs": [
    {
     "data": {
      "image/png": "[encoded data removed]",
      "text/plain": [
       "<Figure size 600x400 with 1 Axes>"
      ]
     },
     "metadata": {},
     "output_type": "display_data"
    }
   ],
   "source": [
    "plt.figure(figsize=(6,4))\n",
    "plt.title('plant health status')\n",
    "plt.bar(x,y,color=['red','pink','black'])\n",
    "plt.xlabel('plant health status')\n",
    "plt.ylabel('Counts')\n",
    "plt.show()"
   ]
  },
  {
   "cell_type": "code",
   "execution_count": 29,
   "id": "ce5d9e7f-519d-453d-aeeb-19964605beac",
   "metadata": {},
   "outputs": [
    {
     "data": {
      "text/plain": [
       "Index(['Soil_Moisture', 'Ambient_Temperature', 'Soil_Temperature', 'Humidity',\n",
       "       'Light_Intensity', 'Soil_pH', 'Nitrogen_Level', 'Phosphorus_Level',\n",
       "       'Potassium_Level', 'Chlorophyll_Content', 'Electrochemical_Signal',\n",
       "       'Plant_Health_Status'],\n",
       "      dtype='object')"
      ]
     },
     "execution_count": 29,
     "metadata": {},
     "output_type": "execute_result"
    }
   ],
   "source": [
    "df.columns"
   ]
  },
  {
   "cell_type": "code",
   "execution_count": 30,
   "id": "7cca0a67-bd71-44f6-a344-b8ce902d987e",
   "metadata": {},
   "outputs": [
    {
     "data": {
      "text/plain": [
       "array([27.52110877, 14.83556615, 17.08636197, ..., 23.4957228 ,\n",
       "       30.97167529, 24.40635651])"
      ]
     },
     "execution_count": 30,
     "metadata": {},
     "output_type": "execute_result"
    }
   ],
   "source": [
    "df['Soil_Moisture'].unique()"
   ]
  },
  {
   "cell_type": "code",
   "execution_count": 31,
   "id": "3ee0c924-567b-4b64-9882-3ea9e45f10cb",
   "metadata": {},
   "outputs": [
    {
     "data": {
      "text/plain": [
       "array([0.94140215, 0.16489936, 1.08172804, ..., 0.88001851, 0.34459742,\n",
       "       0.04754057])"
      ]
     },
     "execution_count": 31,
     "metadata": {},
     "output_type": "execute_result"
    }
   ],
   "source": [
    "df['Electrochemical_Signal'].unique()"
   ]
  },
  {
   "cell_type": "code",
   "execution_count": 32,
   "id": "625343b9-ce74-4bb9-8e44-9db4f174e483",
   "metadata": {},
   "outputs": [
    {
     "data": {
      "image/png": "[encoded data removed]",
      "text/plain": [
       "<Figure size 640x480 with 1 Axes>"
      ]
     },
     "metadata": {},
     "output_type": "display_data"
    }
   ],
   "source": [
    "data = np.random.uniform(10, 40, size=1200) \n",
    "plt.hist(data, bins=[10, 20, 30, 40], color='violet', edgecolor='black')\n",
    "plt.title('Histogram of Soil Moisture')\n",
    "plt.xlabel('count')\n",
    "plt.ylabel('Soil Moisture')\n",
    "plt.show()"
   ]
  },
  {
   "cell_type": "code",
   "execution_count": 33,
   "id": "cdd1c734-2963-4fd1-aede-2248b1465845",
   "metadata": {},
   "outputs": [
    {
     "data": {
      "text/plain": [
       "array([55.2919039 , 63.94918051, 67.83795649, ..., 40.69367065,\n",
       "       41.38710661, 47.50539411])"
      ]
     },
     "execution_count": 33,
     "metadata": {},
     "output_type": "execute_result"
    }
   ],
   "source": [
    "df['Humidity'].unique()"
   ]
  },
  {
   "cell_type": "code",
   "execution_count": 34,
   "id": "6a284b2b-dc48-4432-8e51-af2d51c6b7d2",
   "metadata": {},
   "outputs": [
    {
     "data": {
      "image/png": "[encoded data removed]",
      "text/plain": [
       "<Figure size 640x480 with 1 Axes>"
      ]
     },
     "metadata": {},
     "output_type": "display_data"
    }
   ],
   "source": [
    "plt.title('Humidity')\n",
    "a = np.array([250, 45, 60, 75, 80, 100, 11, 34])\n",
    "lb = [\"20\", \"30\", \"40\", \"50\", \"60\", \"70\", \"500\", \"2000\"]\n",
    "plt.pie(a, labels=lb)\n",
    "plt.legend(lb)\n",
    "plt.show()"
   ]
  },
  {
   "cell_type": "markdown",
   "id": "c793e148-d0ee-4ce8-9f08-f26bc455a4aa",
   "metadata": {},
   "source": [
    "# Labelinng the data"
   ]
  },
  {
   "cell_type": "code",
   "execution_count": 35,
   "id": "05942ae0-4381-477b-80aa-213b9a28155c",
   "metadata": {},
   "outputs": [],
   "source": [
    "x=df.drop('Plant_Health_Status',axis=1)"
   ]
  },
  {
   "cell_type": "code",
   "execution_count": 36,
   "id": "06f5ac52-ef30-41a2-b8fe-adadc2860bfe",
   "metadata": {},
   "outputs": [],
   "source": [
    "y=df['Plant_Health_Status']"
   ]
  },
  {
   "cell_type": "code",
   "execution_count": 37,
   "id": "51676f11-8e43-4edc-aba8-41c57c943dd8",
   "metadata": {},
   "outputs": [
    {
     "data": {
      "text/plain": [
       "(1200, 11)"
      ]
     },
     "execution_count": 37,
     "metadata": {},
     "output_type": "execute_result"
    }
   ],
   "source": [
    "x.shape"
   ]
  },
  {
   "cell_type": "code",
   "execution_count": 38,
   "id": "e98ebc6f-dfbc-40a2-be57-61df2a752d73",
   "metadata": {},
   "outputs": [],
   "source": [
    "from sklearn.model_selection import train_test_split\n",
    "x_train,x_test,y_train,y_test=train_test_split(x,y,test_size=0.2,random_state=42)"
   ]
  },
  {
   "cell_type": "code",
   "execution_count": 39,
   "id": "8a142428-875e-4cae-8d57-e2f52200bd43",
   "metadata": {},
   "outputs": [
    {
     "data": {
      "text/plain": [
       "(960, 11)"
      ]
     },
     "execution_count": 39,
     "metadata": {},
     "output_type": "execute_result"
    }
   ],
   "source": [
    "x_train.shape"
   ]
  },
  {
   "cell_type": "code",
   "execution_count": 40,
   "id": "cfc04000-89a0-4470-88d0-172cfd64f232",
   "metadata": {},
   "outputs": [
    {
     "data": {
      "text/plain": [
       "(240, 11)"
      ]
     },
     "execution_count": 40,
     "metadata": {},
     "output_type": "execute_result"
    }
   ],
   "source": [
    "x_test.shape"
   ]
  },
  {
   "cell_type": "code",
   "execution_count": 41,
   "id": "74cfd63e-7abb-4ced-b492-be0ec081b35d",
   "metadata": {},
   "outputs": [
    {
     "data": {
      "text/plain": [
       "(960,)"
      ]
     },
     "execution_count": 41,
     "metadata": {},
     "output_type": "execute_result"
    }
   ],
   "source": [
    "y_train.shape"
   ]
  },
  {
   "cell_type": "code",
   "execution_count": 42,
   "id": "8b54b137-10ba-40f4-a215-63159275b9ac",
   "metadata": {},
   "outputs": [
    {
     "data": {
      "text/plain": [
       "(240,)"
      ]
     },
     "execution_count": 42,
     "metadata": {},
     "output_type": "execute_result"
    }
   ],
   "source": [
    "y_test.shape"
   ]
  },
  {
   "cell_type": "code",
   "execution_count": 43,
   "id": "7d09a844-8dbf-4254-bcb8-fabd2f6ca926",
   "metadata": {},
   "outputs": [],
   "source": [
    "from sklearn.preprocessing import StandardScaler"
   ]
  },
  {
   "cell_type": "code",
   "execution_count": 44,
   "id": "361ac81e-11b6-4837-ad2a-1ceffb78daf9",
   "metadata": {},
   "outputs": [],
   "source": [
    "sc= StandardScaler()\n",
    "x_train=sc.fit_transform(x_train)\n",
    "x_test=sc.transform(x_test)"
   ]
  },
  {
   "cell_type": "code",
   "execution_count": 45,
   "id": "dcb6b8f8-1db3-4b38-8ac3-f6726df5a4b0",
   "metadata": {},
   "outputs": [
    {
     "data": {
      "text/plain": [
       "array([[-0.68861502,  0.55620759, -1.02204931, ...,  0.59488936,\n",
       "         0.74600383,  0.05619559],\n",
       "       [-1.5876373 ,  0.46355874,  1.70750582, ...,  0.34120964,\n",
       "         0.53899595, -1.1736261 ],\n",
       "       [ 0.7843092 , -0.37598199,  1.53751242, ...,  0.39150282,\n",
       "        -0.04222468, -0.33494776],\n",
       "       ...,\n",
       "       [ 1.67539296, -0.1689755 , -0.63406182, ..., -0.70017509,\n",
       "         1.46738921,  1.20757073],\n",
       "       [ 1.24270921,  0.0263749 , -1.33886213, ...,  0.18996315,\n",
       "        -0.83067654,  1.47794588],\n",
       "       [-1.62432273,  0.73680968, -0.0408804 , ..., -0.70496071,\n",
       "        -0.58430624, -0.49259711]])"
      ]
     },
     "execution_count": 45,
     "metadata": {},
     "output_type": "execute_result"
    }
   ],
   "source": [
    "x_train"
   ]
  },
  {
   "cell_type": "code",
   "execution_count": 46,
   "id": "206f5121-a5b7-49e6-b5fa-221c6f8eb6bd",
   "metadata": {},
   "outputs": [
    {
     "data": {
      "text/plain": [
       "array([[-0.77413726,  0.41365577, -0.72065076, ...,  0.55945131,\n",
       "         0.59109347,  0.02370337],\n",
       "       [-1.57695838, -1.02146407, -0.88994024, ...,  0.35608977,\n",
       "         1.61909444, -0.98788764],\n",
       "       [ 0.40359391,  0.30936743,  0.57339535, ...,  1.07452053,\n",
       "         0.37029234,  1.36728612],\n",
       "       ...,\n",
       "       [-0.57116867,  0.86822741,  1.18554007, ...,  0.15924242,\n",
       "        -0.52832647, -1.69897634],\n",
       "       [-1.52348865, -0.5817492 ,  0.85243549, ..., -0.04487591,\n",
       "        -0.36995363,  1.15604615],\n",
       "       [-0.33339238,  1.62954287, -1.5108298 , ...,  1.22425666,\n",
       "        -0.03766423,  1.33305585]])"
      ]
     },
     "execution_count": 46,
     "metadata": {},
     "output_type": "execute_result"
    }
   ],
   "source": [
    "x_test"
   ]
  },
  {
   "cell_type": "markdown",
   "id": "078d80d3-d8b2-4bde-9017-c0b35494557c",
   "metadata": {},
   "source": [
    "# Evaluation"
   ]
  },
  {
   "cell_type": "markdown",
   "id": "a9de270c-f7b0-46b4-ab3a-cfd97c401161",
   "metadata": {},
   "source": [
    "# Logistic Regression"
   ]
  },
  {
   "cell_type": "code",
   "execution_count": 47,
   "id": "e1dadbd5-523e-4e86-a6b5-2d0b0954e627",
   "metadata": {},
   "outputs": [],
   "source": [
    "from sklearn.linear_model import LogisticRegression\n",
    "lr=LogisticRegression()"
   ]
  },
  {
   "cell_type": "code",
   "execution_count": 48,
   "id": "efaf54c1-3ce1-451a-a142-24bd222d2f1b",
   "metadata": {},
   "outputs": [
    {
     "data": {
      "text/html": [
       "<style>#sk-container-id-1 {color: black;}#sk-container-id-1 pre{padding: 0;}#sk-container-id-1 div.sk-toggleable {background-color: white;}#sk-container-id-1 label.sk-toggleable__label {cursor: pointer;display: block;width: 100%;margin-bottom: 0;padding: 0.3em;box-sizing: border-box;text-align: center;}#sk-container-id-1 label.sk-toggleable__label-arrow:before {content: \"▸\";float: left;margin-right: 0.25em;color: #696969;}#sk-container-id-1 label.sk-toggleable__label-arrow:hover:before {color: black;}#sk-container-id-1 div.sk-estimator:hover label.sk-toggleable__label-arrow:before {color: black;}#sk-container-id-1 div.sk-toggleable__content {max-height: 0;max-width: 0;overflow: hidden;text-align: left;background-color: #f0f8ff;}#sk-container-id-1 div.sk-toggleable__content pre {margin: 0.2em;color: black;border-radius: 0.25em;background-color: #f0f8ff;}#sk-container-id-1 input.sk-toggleable__control:checked~div.sk-toggleable__content {max-height: 200px;max-width: 100%;overflow: auto;}#sk-container-id-1 input.sk-toggleable__control:checked~label.sk-toggleable__label-arrow:before {content: \"▾\";}#sk-container-id-1 div.sk-estimator input.sk-toggleable__control:checked~label.sk-toggleable__label {background-color: #d4ebff;}#sk-container-id-1 div.sk-label input.sk-toggleable__control:checked~label.sk-toggleable__label {background-color: #d4ebff;}#sk-container-id-1 input.sk-hidden--visually {border: 0;clip: rect(1px 1px 1px 1px);clip: rect(1px, 1px, 1px, 1px);height: 1px;margin: -1px;overflow: hidden;padding: 0;position: absolute;width: 1px;}#sk-container-id-1 div.sk-estimator {font-family: monospace;background-color: #f0f8ff;border: 1px dotted black;border-radius: 0.25em;box-sizing: border-box;margin-bottom: 0.5em;}#sk-container-id-1 div.sk-estimator:hover {background-color: #d4ebff;}#sk-container-id-1 div.sk-parallel-item::after {content: \"\";width: 100%;border-bottom: 1px solid gray;flex-grow: 1;}#sk-container-id-1 div.sk-label:hover label.sk-toggleable__label {background-color: #d4ebff;}#sk-container-id-1 div.sk-serial::before {content: \"\";position: absolute;border-left: 1px solid gray;box-sizing: border-box;top: 0;bottom: 0;left: 50%;z-index: 0;}#sk-container-id-1 div.sk-serial {display: flex;flex-direction: column;align-items: center;background-color: white;padding-right: 0.2em;padding-left: 0.2em;position: relative;}#sk-container-id-1 div.sk-item {position: relative;z-index: 1;}#sk-container-id-1 div.sk-parallel {display: flex;align-items: stretch;justify-content: center;background-color: white;position: relative;}#sk-container-id-1 div.sk-item::before, #sk-container-id-1 div.sk-parallel-item::before {content: \"\";position: absolute;border-left: 1px solid gray;box-sizing: border-box;top: 0;bottom: 0;left: 50%;z-index: -1;}#sk-container-id-1 div.sk-parallel-item {display: flex;flex-direction: column;z-index: 1;position: relative;background-color: white;}#sk-container-id-1 div.sk-parallel-item:first-child::after {align-self: flex-end;width: 50%;}#sk-container-id-1 div.sk-parallel-item:last-child::after {align-self: flex-start;width: 50%;}#sk-container-id-1 div.sk-parallel-item:only-child::after {width: 0;}#sk-container-id-1 div.sk-dashed-wrapped {border: 1px dashed gray;margin: 0 0.4em 0.5em 0.4em;box-sizing: border-box;padding-bottom: 0.4em;background-color: white;}#sk-container-id-1 div.sk-label label {font-family: monospace;font-weight: bold;display: inline-block;line-height: 1.2em;}#sk-container-id-1 div.sk-label-container {text-align: center;}#sk-container-id-1 div.sk-container {/* jupyter's `normalize.less` sets `[hidden] { display: none; }` but bootstrap.min.css set `[hidden] { display: none !important; }` so we also need the `!important` here to be able to override the default hidden behavior on the sphinx rendered scikit-learn.org. See: https://github.com/scikit-learn/scikit-learn/issues/21755 */display: inline-block !important;position: relative;}#sk-container-id-1 div.sk-text-repr-fallback {display: none;}</style><div id=\"sk-container-id-1\" class=\"sk-top-container\"><div class=\"sk-text-repr-fallback\"><pre>LogisticRegression()</pre><b>In a Jupyter environment, please rerun this cell to show the HTML representation or trust the notebook. <br />On GitHub, the HTML representation is unable to render, please try loading this page with nbviewer.org.</b></div><div class=\"sk-container\" hidden><div class=\"sk-item\"><div class=\"sk-estimator sk-toggleable\"><input class=\"sk-toggleable__control sk-hidden--visually\" id=\"sk-estimator-id-1\" type=\"checkbox\" checked><label for=\"sk-estimator-id-1\" class=\"sk-toggleable__label sk-toggleable__label-arrow\">LogisticRegression</label><div class=\"sk-toggleable__content\"><pre>LogisticRegression()</pre></div></div></div></div></div>"
      ],
      "text/plain": [
       "LogisticRegression()"
      ]
     },
     "execution_count": 48,
     "metadata": {},
     "output_type": "execute_result"
    }
   ],
   "source": [
    "lr.fit(x_train,y_train)"
   ]
  },
  {
   "cell_type": "code",
   "execution_count": 49,
   "id": "a9a7a7bd-1956-4e30-8828-27ee3ca7dd06",
   "metadata": {},
   "outputs": [],
   "source": [
    "predict_lr=lr.predict(x_test)"
   ]
  },
  {
   "cell_type": "code",
   "execution_count": 50,
   "id": "a2076c21-85e7-48dc-a8a8-3c5953247c08",
   "metadata": {},
   "outputs": [
    {
     "data": {
      "text/plain": [
       "array([1, 1, 2, 2, 2, 0, 1, 2, 2, 1, 1, 0, 2, 0, 0, 1, 2, 2, 2, 0, 0, 0,\n",
       "       0, 0, 0, 0, 0, 2, 1, 0, 2, 1, 2, 1, 2, 2, 0, 1, 0, 0, 2, 2, 2, 0,\n",
       "       0, 2, 2, 0, 2, 1, 1, 1, 0, 2, 2, 0, 1, 1, 1, 2, 1, 0, 2, 2, 1, 1,\n",
       "       1, 2, 1, 0, 1, 1, 2, 1, 0, 2, 1, 1, 2, 1, 0, 2, 0, 0, 2, 0, 1, 1,\n",
       "       2, 1, 1, 1, 0, 1, 0, 2, 1, 1, 0, 1, 1, 0, 1, 2, 0, 0, 2, 2, 0, 1,\n",
       "       2, 2, 1, 1, 0, 1, 2, 1, 0, 1, 1, 1, 0, 1, 0, 0, 0, 2, 1, 1, 1, 0,\n",
       "       1, 2, 1, 1, 0, 2, 2, 2, 1, 1, 2, 2, 0, 0, 2, 1, 2, 2, 1, 2, 1, 1,\n",
       "       0, 0, 0, 1, 2, 2, 1, 2, 1, 0, 1, 1, 0, 0, 1, 0, 0, 2, 2, 1, 1, 2,\n",
       "       2, 2, 0, 0, 0, 2, 2, 1, 1, 2, 2, 0, 1, 1, 1, 1, 2, 2, 2, 0, 2, 0,\n",
       "       0, 0, 0, 2, 1, 0, 2, 0, 1, 0, 2, 0, 2, 1, 1, 1, 0, 2, 1, 0, 1, 1,\n",
       "       1, 1, 2, 2, 1, 1, 1, 1, 2, 1, 1, 2, 0, 2, 0, 2, 1, 1, 1, 1])"
      ]
     },
     "execution_count": 50,
     "metadata": {},
     "output_type": "execute_result"
    }
   ],
   "source": [
    "predict_lr"
   ]
  },
  {
   "cell_type": "code",
   "execution_count": 51,
   "id": "516e96cd-a112-41ff-a5d6-4905fba43b92",
   "metadata": {},
   "outputs": [
    {
     "data": {
      "text/plain": [
       "1178    1\n",
       "865     1\n",
       "101     2\n",
       "439     2\n",
       "58      2\n",
       "       ..\n",
       "382     0\n",
       "867     1\n",
       "542     2\n",
       "1193    1\n",
       "874     2\n",
       "Name: Plant_Health_Status, Length: 240, dtype: int32"
      ]
     },
     "execution_count": 51,
     "metadata": {},
     "output_type": "execute_result"
    }
   ],
   "source": [
    "y_test"
   ]
  },
  {
   "cell_type": "code",
   "execution_count": 52,
   "id": "677f8be5-6a97-4e12-945b-74138ccbee38",
   "metadata": {},
   "outputs": [],
   "source": [
    "from sklearn.metrics import accuracy_score,confusion_matrix"
   ]
  },
  {
   "cell_type": "code",
   "execution_count": 53,
   "id": "1c91ebfe-7dc7-437d-a10a-3df9f26fb6b4",
   "metadata": {},
   "outputs": [
    {
     "data": {
      "text/plain": [
       "0.7666666666666667"
      ]
     },
     "execution_count": 53,
     "metadata": {},
     "output_type": "execute_result"
    }
   ],
   "source": [
    "accuracy=accuracy_score(y_test,predict_lr)\n",
    "accuracy"
   ]
  },
  {
   "cell_type": "code",
   "execution_count": 54,
   "id": "8ecad25e-b665-4eae-97df-ff4bbb14d3d4",
   "metadata": {},
   "outputs": [
    {
     "data": {
      "text/plain": [
       "array([[54,  0, 11],\n",
       "       [ 3, 73,  9],\n",
       "       [13, 20, 57]], dtype=int64)"
      ]
     },
     "execution_count": 54,
     "metadata": {},
     "output_type": "execute_result"
    }
   ],
   "source": [
    "cm=confusion_matrix(y_test,predict_lr)\n",
    "cm"
   ]
  },
  {
   "cell_type": "code",
   "execution_count": 55,
   "id": "f5df4894-80d5-4cb4-b676-3ab67f76fa1b",
   "metadata": {},
   "outputs": [
    {
     "data": {
      "image/png": "[encoded data removed]",
      "text/plain": [
       "<Figure size 800x400 with 2 Axes>"
      ]
     },
     "metadata": {},
     "output_type": "display_data"
    }
   ],
   "source": [
    "import seaborn as sns\n",
    "plt.figure(figsize=(8,4))\n",
    "plt.title('confusion matrix')\n",
    "sns.heatmap(cm,annot=True,fmt='d')\n",
    "plt.xlabel('True value')\n",
    "plt.ylabel('predicted value')\n",
    "plt.show()"
   ]
  },
  {
   "cell_type": "code",
   "execution_count": 56,
   "id": "73aa50d6-5db1-4f14-aa33-c3c75667d8e7",
   "metadata": {},
   "outputs": [
    {
     "data": {
      "text/plain": [
       "0.7604166666666666"
      ]
     },
     "execution_count": 56,
     "metadata": {},
     "output_type": "execute_result"
    }
   ],
   "source": [
    "# model working for tarin and test dataset\n",
    "train_score=lr.score(x_train,y_train)\n",
    "train_score"
   ]
  },
  {
   "cell_type": "code",
   "execution_count": 57,
   "id": "0066618e-1cbd-4a80-aa0b-fa35df6b3717",
   "metadata": {},
   "outputs": [
    {
     "data": {
      "text/plain": [
       "0.7666666666666667"
      ]
     },
     "execution_count": 57,
     "metadata": {},
     "output_type": "execute_result"
    }
   ],
   "source": [
    "train_score=lr.score(x_test,y_test)\n",
    "train_score"
   ]
  },
  {
   "cell_type": "code",
   "execution_count": 58,
   "id": "b854267d-7590-4eb6-bfc6-1b0b100b2920",
   "metadata": {},
   "outputs": [],
   "source": [
    "from sklearn.tree import DecisionTreeClassifier\n",
    "dcl=DecisionTreeClassifier()"
   ]
  },
  {
   "cell_type": "code",
   "execution_count": 59,
   "id": "3dd7c248-9922-44f4-8911-6764ee1266ff",
   "metadata": {},
   "outputs": [
    {
     "data": {
      "text/html": [
       "<style>#sk-container-id-2 {color: black;}#sk-container-id-2 pre{padding: 0;}#sk-container-id-2 div.sk-toggleable {background-color: white;}#sk-container-id-2 label.sk-toggleable__label {cursor: pointer;display: block;width: 100%;margin-bottom: 0;padding: 0.3em;box-sizing: border-box;text-align: center;}#sk-container-id-2 label.sk-toggleable__label-arrow:before {content: \"▸\";float: left;margin-right: 0.25em;color: #696969;}#sk-container-id-2 label.sk-toggleable__label-arrow:hover:before {color: black;}#sk-container-id-2 div.sk-estimator:hover label.sk-toggleable__label-arrow:before {color: black;}#sk-container-id-2 div.sk-toggleable__content {max-height: 0;max-width: 0;overflow: hidden;text-align: left;background-color: #f0f8ff;}#sk-container-id-2 div.sk-toggleable__content pre {margin: 0.2em;color: black;border-radius: 0.25em;background-color: #f0f8ff;}#sk-container-id-2 input.sk-toggleable__control:checked~div.sk-toggleable__content {max-height: 200px;max-width: 100%;overflow: auto;}#sk-container-id-2 input.sk-toggleable__control:checked~label.sk-toggleable__label-arrow:before {content: \"▾\";}#sk-container-id-2 div.sk-estimator input.sk-toggleable__control:checked~label.sk-toggleable__label {background-color: #d4ebff;}#sk-container-id-2 div.sk-label input.sk-toggleable__control:checked~label.sk-toggleable__label {background-color: #d4ebff;}#sk-container-id-2 input.sk-hidden--visually {border: 0;clip: rect(1px 1px 1px 1px);clip: rect(1px, 1px, 1px, 1px);height: 1px;margin: -1px;overflow: hidden;padding: 0;position: absolute;width: 1px;}#sk-container-id-2 div.sk-estimator {font-family: monospace;background-color: #f0f8ff;border: 1px dotted black;border-radius: 0.25em;box-sizing: border-box;margin-bottom: 0.5em;}#sk-container-id-2 div.sk-estimator:hover {background-color: #d4ebff;}#sk-container-id-2 div.sk-parallel-item::after {content: \"\";width: 100%;border-bottom: 1px solid gray;flex-grow: 1;}#sk-container-id-2 div.sk-label:hover label.sk-toggleable__label {background-color: #d4ebff;}#sk-container-id-2 div.sk-serial::before {content: \"\";position: absolute;border-left: 1px solid gray;box-sizing: border-box;top: 0;bottom: 0;left: 50%;z-index: 0;}#sk-container-id-2 div.sk-serial {display: flex;flex-direction: column;align-items: center;background-color: white;padding-right: 0.2em;padding-left: 0.2em;position: relative;}#sk-container-id-2 div.sk-item {position: relative;z-index: 1;}#sk-container-id-2 div.sk-parallel {display: flex;align-items: stretch;justify-content: center;background-color: white;position: relative;}#sk-container-id-2 div.sk-item::before, #sk-container-id-2 div.sk-parallel-item::before {content: \"\";position: absolute;border-left: 1px solid gray;box-sizing: border-box;top: 0;bottom: 0;left: 50%;z-index: -1;}#sk-container-id-2 div.sk-parallel-item {display: flex;flex-direction: column;z-index: 1;position: relative;background-color: white;}#sk-container-id-2 div.sk-parallel-item:first-child::after {align-self: flex-end;width: 50%;}#sk-container-id-2 div.sk-parallel-item:last-child::after {align-self: flex-start;width: 50%;}#sk-container-id-2 div.sk-parallel-item:only-child::after {width: 0;}#sk-container-id-2 div.sk-dashed-wrapped {border: 1px dashed gray;margin: 0 0.4em 0.5em 0.4em;box-sizing: border-box;padding-bottom: 0.4em;background-color: white;}#sk-container-id-2 div.sk-label label {font-family: monospace;font-weight: bold;display: inline-block;line-height: 1.2em;}#sk-container-id-2 div.sk-label-container {text-align: center;}#sk-container-id-2 div.sk-container {/* jupyter's `normalize.less` sets `[hidden] { display: none; }` but bootstrap.min.css set `[hidden] { display: none !important; }` so we also need the `!important` here to be able to override the default hidden behavior on the sphinx rendered scikit-learn.org. See: https://github.com/scikit-learn/scikit-learn/issues/21755 */display: inline-block !important;position: relative;}#sk-container-id-2 div.sk-text-repr-fallback {display: none;}</style><div id=\"sk-container-id-2\" class=\"sk-top-container\"><div class=\"sk-text-repr-fallback\"><pre>DecisionTreeClassifier()</pre><b>In a Jupyter environment, please rerun this cell to show the HTML representation or trust the notebook. <br />On GitHub, the HTML representation is unable to render, please try loading this page with nbviewer.org.</b></div><div class=\"sk-container\" hidden><div class=\"sk-item\"><div class=\"sk-estimator sk-toggleable\"><input class=\"sk-toggleable__control sk-hidden--visually\" id=\"sk-estimator-id-2\" type=\"checkbox\" checked><label for=\"sk-estimator-id-2\" class=\"sk-toggleable__label sk-toggleable__label-arrow\">DecisionTreeClassifier</label><div class=\"sk-toggleable__content\"><pre>DecisionTreeClassifier()</pre></div></div></div></div></div>"
      ],
      "text/plain": [
       "DecisionTreeClassifier()"
      ]
     },
     "execution_count": 59,
     "metadata": {},
     "output_type": "execute_result"
    }
   ],
   "source": [
    "dcl.fit(x_train,y_train)"
   ]
  },
  {
   "cell_type": "code",
   "execution_count": 60,
   "id": "6acb1aed-b03c-4f2a-be91-67c2d7be1ce2",
   "metadata": {},
   "outputs": [],
   "source": [
    "predict_dcl=dcl.predict(x_test)"
   ]
  },
  {
   "cell_type": "code",
   "execution_count": 61,
   "id": "c8c6e979-e4df-4d26-985c-3d9d106521fd",
   "metadata": {},
   "outputs": [
    {
     "data": {
      "text/plain": [
       "array([1, 1, 2, 2, 2, 0, 1, 1, 0, 1, 1, 0, 2, 0, 0, 2, 0, 2, 2, 0, 0, 0,\n",
       "       1, 0, 0, 0, 1, 2, 1, 0, 2, 1, 2, 2, 2, 1, 0, 1, 0, 0, 2, 2, 2, 0,\n",
       "       0, 2, 1, 0, 2, 2, 1, 1, 2, 1, 2, 0, 1, 1, 1, 2, 1, 0, 2, 2, 1, 1,\n",
       "       1, 1, 1, 0, 1, 1, 2, 1, 0, 1, 1, 2, 2, 1, 0, 2, 0, 0, 0, 0, 1, 1,\n",
       "       2, 1, 1, 1, 0, 1, 0, 2, 2, 2, 0, 2, 1, 0, 1, 2, 0, 0, 2, 2, 0, 1,\n",
       "       2, 2, 1, 1, 0, 2, 2, 1, 0, 1, 2, 1, 0, 1, 0, 0, 2, 2, 1, 1, 2, 0,\n",
       "       2, 2, 1, 1, 0, 2, 2, 2, 1, 2, 2, 0, 0, 2, 0, 1, 0, 2, 1, 2, 1, 1,\n",
       "       2, 0, 0, 2, 2, 1, 2, 2, 1, 0, 2, 1, 2, 0, 1, 0, 0, 2, 2, 2, 1, 2,\n",
       "       2, 2, 0, 0, 0, 2, 0, 1, 1, 0, 2, 1, 1, 2, 1, 1, 2, 1, 2, 0, 2, 2,\n",
       "       2, 0, 2, 2, 2, 2, 2, 2, 1, 2, 2, 0, 2, 1, 1, 1, 2, 1, 1, 2, 1, 1,\n",
       "       1, 1, 2, 2, 1, 1, 1, 2, 0, 1, 1, 2, 0, 0, 0, 0, 1, 2, 1, 2])"
      ]
     },
     "execution_count": 61,
     "metadata": {},
     "output_type": "execute_result"
    }
   ],
   "source": [
    "predict_dcl"
   ]
  },
  {
   "cell_type": "code",
   "execution_count": 62,
   "id": "b27fe4f0-8f61-48b3-ab86-f1e799c4efec",
   "metadata": {},
   "outputs": [
    {
     "data": {
      "text/plain": [
       "1178    1\n",
       "865     1\n",
       "101     2\n",
       "439     2\n",
       "58      2\n",
       "       ..\n",
       "382     0\n",
       "867     1\n",
       "542     2\n",
       "1193    1\n",
       "874     2\n",
       "Name: Plant_Health_Status, Length: 240, dtype: int32"
      ]
     },
     "execution_count": 62,
     "metadata": {},
     "output_type": "execute_result"
    }
   ],
   "source": [
    "y_test"
   ]
  },
  {
   "cell_type": "code",
   "execution_count": 63,
   "id": "7f4f48b7-89f2-4fe4-a729-d7b7b623924f",
   "metadata": {},
   "outputs": [],
   "source": [
    "from sklearn.metrics import accuracy_score,confusion_matrix"
   ]
  },
  {
   "cell_type": "code",
   "execution_count": 64,
   "id": "69eae1a4-f8ea-407f-831e-e52f6bb34974",
   "metadata": {},
   "outputs": [
    {
     "data": {
      "text/plain": [
       "0.9958333333333333"
      ]
     },
     "execution_count": 64,
     "metadata": {},
     "output_type": "execute_result"
    }
   ],
   "source": [
    "accuracy=accuracy_score(y_test,predict_dcl)\n",
    "accuracy"
   ]
  },
  {
   "cell_type": "code",
   "execution_count": 65,
   "id": "2a448d7e-a4f1-4d51-b0aa-8c549ad56697",
   "metadata": {},
   "outputs": [
    {
     "data": {
      "text/plain": [
       "array([[65,  0,  0],\n",
       "       [ 0, 84,  1],\n",
       "       [ 0,  0, 90]], dtype=int64)"
      ]
     },
     "execution_count": 65,
     "metadata": {},
     "output_type": "execute_result"
    }
   ],
   "source": [
    "cm=confusion_matrix(y_test,predict_dcl)\n",
    "cm"
   ]
  },
  {
   "cell_type": "code",
   "execution_count": 66,
   "id": "096bd42a-4f06-494d-8318-b1a13277624a",
   "metadata": {},
   "outputs": [
    {
     "data": {
      "image/png": "[encoded data removed]",
      "text/plain": [
       "<Figure size 800x400 with 2 Axes>"
      ]
     },
     "metadata": {},
     "output_type": "display_data"
    }
   ],
   "source": [
    "import seaborn as sns\n",
    "plt.figure(figsize=(8,4))\n",
    "plt.title('confusion matrix')\n",
    "sns.heatmap(cm,annot=True,fmt='d')\n",
    "plt.xlabel('True value')\n",
    "plt.ylabel('predicted value')\n",
    "plt.show()"
   ]
  },
  {
   "cell_type": "code",
   "execution_count": 67,
   "id": "6f74cce6-1bcc-4026-9f93-7295c95c2211",
   "metadata": {},
   "outputs": [
    {
     "data": {
      "text/plain": [
       "1.0"
      ]
     },
     "execution_count": 67,
     "metadata": {},
     "output_type": "execute_result"
    }
   ],
   "source": [
    "train_score=dcl.score(x_train,y_train)\n",
    "train_score"
   ]
  },
  {
   "cell_type": "code",
   "execution_count": 68,
   "id": "9a024462-4d7d-448f-aac5-1a324441a37c",
   "metadata": {},
   "outputs": [
    {
     "data": {
      "text/plain": [
       "0.9958333333333333"
      ]
     },
     "execution_count": 68,
     "metadata": {},
     "output_type": "execute_result"
    }
   ],
   "source": [
    "train_score=dcl.score(x_test,y_test)\n",
    "train_score"
   ]
  },
  {
   "cell_type": "code",
   "execution_count": 69,
   "id": "76b105ff-4713-4ef4-af05-bf696729688a",
   "metadata": {},
   "outputs": [],
   "source": [
    "from sklearn.ensemble import RandomForestClassifier\n",
    "rn=RandomForestClassifier()"
   ]
  },
  {
   "cell_type": "code",
   "execution_count": 70,
   "id": "4c8ca1e4-9b21-4a4f-9268-ea788c10736e",
   "metadata": {},
   "outputs": [
    {
     "data": {
      "text/html": [
       "<style>#sk-container-id-3 {color: black;}#sk-container-id-3 pre{padding: 0;}#sk-container-id-3 div.sk-toggleable {background-color: white;}#sk-container-id-3 label.sk-toggleable__label {cursor: pointer;display: block;width: 100%;margin-bottom: 0;padding: 0.3em;box-sizing: border-box;text-align: center;}#sk-container-id-3 label.sk-toggleable__label-arrow:before {content: \"▸\";float: left;margin-right: 0.25em;color: #696969;}#sk-container-id-3 label.sk-toggleable__label-arrow:hover:before {color: black;}#sk-container-id-3 div.sk-estimator:hover label.sk-toggleable__label-arrow:before {color: black;}#sk-container-id-3 div.sk-toggleable__content {max-height: 0;max-width: 0;overflow: hidden;text-align: left;background-color: #f0f8ff;}#sk-container-id-3 div.sk-toggleable__content pre {margin: 0.2em;color: black;border-radius: 0.25em;background-color: #f0f8ff;}#sk-container-id-3 input.sk-toggleable__control:checked~div.sk-toggleable__content {max-height: 200px;max-width: 100%;overflow: auto;}#sk-container-id-3 input.sk-toggleable__control:checked~label.sk-toggleable__label-arrow:before {content: \"▾\";}#sk-container-id-3 div.sk-estimator input.sk-toggleable__control:checked~label.sk-toggleable__label {background-color: #d4ebff;}#sk-container-id-3 div.sk-label input.sk-toggleable__control:checked~label.sk-toggleable__label {background-color: #d4ebff;}#sk-container-id-3 input.sk-hidden--visually {border: 0;clip: rect(1px 1px 1px 1px);clip: rect(1px, 1px, 1px, 1px);height: 1px;margin: -1px;overflow: hidden;padding: 0;position: absolute;width: 1px;}#sk-container-id-3 div.sk-estimator {font-family: monospace;background-color: #f0f8ff;border: 1px dotted black;border-radius: 0.25em;box-sizing: border-box;margin-bottom: 0.5em;}#sk-container-id-3 div.sk-estimator:hover {background-color: #d4ebff;}#sk-container-id-3 div.sk-parallel-item::after {content: \"\";width: 100%;border-bottom: 1px solid gray;flex-grow: 1;}#sk-container-id-3 div.sk-label:hover label.sk-toggleable__label {background-color: #d4ebff;}#sk-container-id-3 div.sk-serial::before {content: \"\";position: absolute;border-left: 1px solid gray;box-sizing: border-box;top: 0;bottom: 0;left: 50%;z-index: 0;}#sk-container-id-3 div.sk-serial {display: flex;flex-direction: column;align-items: center;background-color: white;padding-right: 0.2em;padding-left: 0.2em;position: relative;}#sk-container-id-3 div.sk-item {position: relative;z-index: 1;}#sk-container-id-3 div.sk-parallel {display: flex;align-items: stretch;justify-content: center;background-color: white;position: relative;}#sk-container-id-3 div.sk-item::before, #sk-container-id-3 div.sk-parallel-item::before {content: \"\";position: absolute;border-left: 1px solid gray;box-sizing: border-box;top: 0;bottom: 0;left: 50%;z-index: -1;}#sk-container-id-3 div.sk-parallel-item {display: flex;flex-direction: column;z-index: 1;position: relative;background-color: white;}#sk-container-id-3 div.sk-parallel-item:first-child::after {align-self: flex-end;width: 50%;}#sk-container-id-3 div.sk-parallel-item:last-child::after {align-self: flex-start;width: 50%;}#sk-container-id-3 div.sk-parallel-item:only-child::after {width: 0;}#sk-container-id-3 div.sk-dashed-wrapped {border: 1px dashed gray;margin: 0 0.4em 0.5em 0.4em;box-sizing: border-box;padding-bottom: 0.4em;background-color: white;}#sk-container-id-3 div.sk-label label {font-family: monospace;font-weight: bold;display: inline-block;line-height: 1.2em;}#sk-container-id-3 div.sk-label-container {text-align: center;}#sk-container-id-3 div.sk-container {/* jupyter's `normalize.less` sets `[hidden] { display: none; }` but bootstrap.min.css set `[hidden] { display: none !important; }` so we also need the `!important` here to be able to override the default hidden behavior on the sphinx rendered scikit-learn.org. See: https://github.com/scikit-learn/scikit-learn/issues/21755 */display: inline-block !important;position: relative;}#sk-container-id-3 div.sk-text-repr-fallback {display: none;}</style><div id=\"sk-container-id-3\" class=\"sk-top-container\"><div class=\"sk-text-repr-fallback\"><pre>RandomForestClassifier()</pre><b>In a Jupyter environment, please rerun this cell to show the HTML representation or trust the notebook. <br />On GitHub, the HTML representation is unable to render, please try loading this page with nbviewer.org.</b></div><div class=\"sk-container\" hidden><div class=\"sk-item\"><div class=\"sk-estimator sk-toggleable\"><input class=\"sk-toggleable__control sk-hidden--visually\" id=\"sk-estimator-id-3\" type=\"checkbox\" checked><label for=\"sk-estimator-id-3\" class=\"sk-toggleable__label sk-toggleable__label-arrow\">RandomForestClassifier</label><div class=\"sk-toggleable__content\"><pre>RandomForestClassifier()</pre></div></div></div></div></div>"
      ],
      "text/plain": [
       "RandomForestClassifier()"
      ]
     },
     "execution_count": 70,
     "metadata": {},
     "output_type": "execute_result"
    }
   ],
   "source": [
    "rn.fit(x_train,y_train)"
   ]
  },
  {
   "cell_type": "code",
   "execution_count": 71,
   "id": "0c4cfd3c-7020-4d8e-a7eb-68a69b544084",
   "metadata": {},
   "outputs": [],
   "source": [
    "predict_rn=rn.predict(x_test)"
   ]
  },
  {
   "cell_type": "code",
   "execution_count": 72,
   "id": "bcd40881-c12e-45f9-84ef-8a922f9cf290",
   "metadata": {},
   "outputs": [
    {
     "data": {
      "text/plain": [
       "array([1, 1, 2, 2, 2, 0, 1, 1, 0, 1, 1, 0, 2, 0, 0, 2, 0, 2, 2, 0, 0, 0,\n",
       "       1, 0, 0, 0, 1, 2, 1, 0, 2, 1, 2, 2, 2, 1, 0, 1, 0, 0, 2, 2, 2, 0,\n",
       "       0, 2, 1, 0, 2, 2, 1, 1, 2, 1, 2, 0, 1, 1, 1, 2, 1, 0, 2, 2, 1, 1,\n",
       "       1, 1, 1, 0, 1, 1, 2, 1, 0, 1, 1, 2, 2, 1, 0, 2, 0, 0, 0, 0, 1, 1,\n",
       "       2, 1, 1, 1, 0, 1, 0, 2, 2, 2, 0, 2, 1, 0, 1, 2, 0, 0, 2, 2, 0, 1,\n",
       "       2, 2, 1, 1, 0, 2, 2, 1, 0, 1, 2, 1, 0, 1, 0, 0, 2, 2, 1, 1, 2, 0,\n",
       "       2, 2, 1, 1, 0, 2, 2, 2, 1, 2, 2, 0, 0, 2, 0, 1, 0, 2, 1, 2, 1, 1,\n",
       "       2, 0, 0, 2, 2, 1, 2, 2, 1, 0, 2, 1, 2, 0, 1, 0, 0, 2, 2, 2, 1, 2,\n",
       "       2, 2, 0, 0, 0, 2, 0, 1, 1, 0, 2, 1, 1, 2, 1, 1, 2, 1, 2, 0, 2, 2,\n",
       "       2, 0, 2, 2, 2, 2, 2, 2, 1, 2, 2, 0, 2, 1, 1, 1, 2, 1, 1, 2, 1, 1,\n",
       "       1, 1, 2, 2, 1, 1, 1, 2, 0, 1, 1, 2, 0, 0, 0, 0, 1, 2, 1, 2])"
      ]
     },
     "execution_count": 72,
     "metadata": {},
     "output_type": "execute_result"
    }
   ],
   "source": [
    "predict_rn"
   ]
  },
  {
   "cell_type": "code",
   "execution_count": 73,
   "id": "9e5b35e8-432e-4c00-8853-79ea11a03519",
   "metadata": {},
   "outputs": [
    {
     "data": {
      "text/plain": [
       "1178    1\n",
       "865     1\n",
       "101     2\n",
       "439     2\n",
       "58      2\n",
       "       ..\n",
       "382     0\n",
       "867     1\n",
       "542     2\n",
       "1193    1\n",
       "874     2\n",
       "Name: Plant_Health_Status, Length: 240, dtype: int32"
      ]
     },
     "execution_count": 73,
     "metadata": {},
     "output_type": "execute_result"
    }
   ],
   "source": [
    "y_test"
   ]
  },
  {
   "cell_type": "code",
   "execution_count": 74,
   "id": "953eb2cb-4467-4fe3-98b9-33d76d22f040",
   "metadata": {},
   "outputs": [
    {
     "data": {
      "text/plain": [
       "0.9958333333333333"
      ]
     },
     "execution_count": 74,
     "metadata": {},
     "output_type": "execute_result"
    }
   ],
   "source": [
    "accuracy=accuracy_score(y_test,predict_rn)\n",
    "accuracy"
   ]
  },
  {
   "cell_type": "code",
   "execution_count": 75,
   "id": "e8f1c892-aa0a-40dd-a739-140f2a0e84c3",
   "metadata": {},
   "outputs": [
    {
     "data": {
      "text/plain": [
       "array([[65,  0,  0],\n",
       "       [ 0, 84,  1],\n",
       "       [ 0,  0, 90]], dtype=int64)"
      ]
     },
     "execution_count": 75,
     "metadata": {},
     "output_type": "execute_result"
    }
   ],
   "source": [
    "cm=confusion_matrix(y_test,predict_rn)\n",
    "cm"
   ]
  },
  {
   "cell_type": "code",
   "execution_count": 76,
   "id": "e59733cf-4344-4c17-acf0-e7bf899ccc2c",
   "metadata": {},
   "outputs": [
    {
     "data": {
      "image/png": "[encoded data removed]",
      "text/plain": [
       "<Figure size 800x400 with 2 Axes>"
      ]
     },
     "metadata": {},
     "output_type": "display_data"
    }
   ],
   "source": [
    "import seaborn as sns\n",
    "plt.figure(figsize=(8,4))\n",
    "plt.title('confusion matricx')\n",
    "sns.heatmap(cm,annot=True,fmt='d')\n",
    "plt.xlabel('True value')\n",
    "plt.ylabel('predicted value')\n",
    "plt.show()"
   ]
  },
  {
   "cell_type": "code",
   "execution_count": 77,
   "id": "4a1083c0-72cf-4851-a365-c4e1367b7269",
   "metadata": {},
   "outputs": [
    {
     "data": {
      "text/plain": [
       "1.0"
      ]
     },
     "execution_count": 77,
     "metadata": {},
     "output_type": "execute_result"
    }
   ],
   "source": [
    "train_score=rn.score(x_train,y_train)\n",
    "train_score"
   ]
  },
  {
   "cell_type": "code",
   "execution_count": 78,
   "id": "8d76c01a-d6f4-4251-b351-a195bbc372e7",
   "metadata": {},
   "outputs": [
    {
     "data": {
      "text/plain": [
       "Index(['Soil_Moisture', 'Ambient_Temperature', 'Soil_Temperature', 'Humidity',\n",
       "       'Light_Intensity', 'Soil_pH', 'Nitrogen_Level', 'Phosphorus_Level',\n",
       "       'Potassium_Level', 'Chlorophyll_Content', 'Electrochemical_Signal',\n",
       "       'Plant_Health_Status'],\n",
       "      dtype='object')"
      ]
     },
     "execution_count": 78,
     "metadata": {},
     "output_type": "execute_result"
    }
   ],
   "source": [
    "df.columns"
   ]
  },
  {
   "cell_type": "code",
   "execution_count": 79,
   "id": "c4a506ee-6371-47cd-871d-92ccb452c004",
   "metadata": {},
   "outputs": [
    {
     "data": {
      "text/plain": [
       "0.9958333333333333"
      ]
     },
     "execution_count": 79,
     "metadata": {},
     "output_type": "execute_result"
    }
   ],
   "source": [
    "train_score=rn.score(x_test,y_test)\n",
    "train_score"
   ]
  },
  {
   "cell_type": "code",
   "execution_count": 80,
   "id": "4e6ae11c-4f56-48e1-adef-76e5c48cbf0a",
   "metadata": {},
   "outputs": [],
   "source": [
    "from sklearn.svm import SVC"
   ]
  },
  {
   "cell_type": "code",
   "execution_count": 81,
   "id": "868ac2c8-9a41-4964-9fe8-aa7114c9dcb4",
   "metadata": {},
   "outputs": [],
   "source": [
    "sc=SVC()"
   ]
  },
  {
   "cell_type": "code",
   "execution_count": 82,
   "id": "8ec4d0ff-c8af-494f-9742-43f4e5e6cea6",
   "metadata": {},
   "outputs": [
    {
     "data": {
      "text/html": [
       "<style>#sk-container-id-4 {color: black;}#sk-container-id-4 pre{padding: 0;}#sk-container-id-4 div.sk-toggleable {background-color: white;}#sk-container-id-4 label.sk-toggleable__label {cursor: pointer;display: block;width: 100%;margin-bottom: 0;padding: 0.3em;box-sizing: border-box;text-align: center;}#sk-container-id-4 label.sk-toggleable__label-arrow:before {content: \"▸\";float: left;margin-right: 0.25em;color: #696969;}#sk-container-id-4 label.sk-toggleable__label-arrow:hover:before {color: black;}#sk-container-id-4 div.sk-estimator:hover label.sk-toggleable__label-arrow:before {color: black;}#sk-container-id-4 div.sk-toggleable__content {max-height: 0;max-width: 0;overflow: hidden;text-align: left;background-color: #f0f8ff;}#sk-container-id-4 div.sk-toggleable__content pre {margin: 0.2em;color: black;border-radius: 0.25em;background-color: #f0f8ff;}#sk-container-id-4 input.sk-toggleable__control:checked~div.sk-toggleable__content {max-height: 200px;max-width: 100%;overflow: auto;}#sk-container-id-4 input.sk-toggleable__control:checked~label.sk-toggleable__label-arrow:before {content: \"▾\";}#sk-container-id-4 div.sk-estimator input.sk-toggleable__control:checked~label.sk-toggleable__label {background-color: #d4ebff;}#sk-container-id-4 div.sk-label input.sk-toggleable__control:checked~label.sk-toggleable__label {background-color: #d4ebff;}#sk-container-id-4 input.sk-hidden--visually {border: 0;clip: rect(1px 1px 1px 1px);clip: rect(1px, 1px, 1px, 1px);height: 1px;margin: -1px;overflow: hidden;padding: 0;position: absolute;width: 1px;}#sk-container-id-4 div.sk-estimator {font-family: monospace;background-color: #f0f8ff;border: 1px dotted black;border-radius: 0.25em;box-sizing: border-box;margin-bottom: 0.5em;}#sk-container-id-4 div.sk-estimator:hover {background-color: #d4ebff;}#sk-container-id-4 div.sk-parallel-item::after {content: \"\";width: 100%;border-bottom: 1px solid gray;flex-grow: 1;}#sk-container-id-4 div.sk-label:hover label.sk-toggleable__label {background-color: #d4ebff;}#sk-container-id-4 div.sk-serial::before {content: \"\";position: absolute;border-left: 1px solid gray;box-sizing: border-box;top: 0;bottom: 0;left: 50%;z-index: 0;}#sk-container-id-4 div.sk-serial {display: flex;flex-direction: column;align-items: center;background-color: white;padding-right: 0.2em;padding-left: 0.2em;position: relative;}#sk-container-id-4 div.sk-item {position: relative;z-index: 1;}#sk-container-id-4 div.sk-parallel {display: flex;align-items: stretch;justify-content: center;background-color: white;position: relative;}#sk-container-id-4 div.sk-item::before, #sk-container-id-4 div.sk-parallel-item::before {content: \"\";position: absolute;border-left: 1px solid gray;box-sizing: border-box;top: 0;bottom: 0;left: 50%;z-index: -1;}#sk-container-id-4 div.sk-parallel-item {display: flex;flex-direction: column;z-index: 1;position: relative;background-color: white;}#sk-container-id-4 div.sk-parallel-item:first-child::after {align-self: flex-end;width: 50%;}#sk-container-id-4 div.sk-parallel-item:last-child::after {align-self: flex-start;width: 50%;}#sk-container-id-4 div.sk-parallel-item:only-child::after {width: 0;}#sk-container-id-4 div.sk-dashed-wrapped {border: 1px dashed gray;margin: 0 0.4em 0.5em 0.4em;box-sizing: border-box;padding-bottom: 0.4em;background-color: white;}#sk-container-id-4 div.sk-label label {font-family: monospace;font-weight: bold;display: inline-block;line-height: 1.2em;}#sk-container-id-4 div.sk-label-container {text-align: center;}#sk-container-id-4 div.sk-container {/* jupyter's `normalize.less` sets `[hidden] { display: none; }` but bootstrap.min.css set `[hidden] { display: none !important; }` so we also need the `!important` here to be able to override the default hidden behavior on the sphinx rendered scikit-learn.org. See: https://github.com/scikit-learn/scikit-learn/issues/21755 */display: inline-block !important;position: relative;}#sk-container-id-4 div.sk-text-repr-fallback {display: none;}</style><div id=\"sk-container-id-4\" class=\"sk-top-container\"><div class=\"sk-text-repr-fallback\"><pre>SVC()</pre><b>In a Jupyter environment, please rerun this cell to show the HTML representation or trust the notebook. <br />On GitHub, the HTML representation is unable to render, please try loading this page with nbviewer.org.</b></div><div class=\"sk-container\" hidden><div class=\"sk-item\"><div class=\"sk-estimator sk-toggleable\"><input class=\"sk-toggleable__control sk-hidden--visually\" id=\"sk-estimator-id-4\" type=\"checkbox\" checked><label for=\"sk-estimator-id-4\" class=\"sk-toggleable__label sk-toggleable__label-arrow\">SVC</label><div class=\"sk-toggleable__content\"><pre>SVC()</pre></div></div></div></div></div>"
      ],
      "text/plain": [
       "SVC()"
      ]
     },
     "execution_count": 82,
     "metadata": {},
     "output_type": "execute_result"
    }
   ],
   "source": [
    "sc.fit(x_train,y_train)"
   ]
  },
  {
   "cell_type": "code",
   "execution_count": 83,
   "id": "ed80defd-6d69-4c22-8dbd-11cde0e8c018",
   "metadata": {},
   "outputs": [],
   "source": [
    "predict_sc=sc.predict(x_test)"
   ]
  },
  {
   "cell_type": "code",
   "execution_count": 84,
   "id": "78d96ad3-94fa-4dc2-8d5c-f57c84994d27",
   "metadata": {},
   "outputs": [
    {
     "data": {
      "text/plain": [
       "array([1, 1, 0, 2, 2, 0, 1, 2, 2, 1, 1, 0, 2, 0, 2, 2, 2, 2, 2, 0, 2, 0,\n",
       "       2, 0, 0, 0, 0, 2, 1, 0, 2, 1, 2, 1, 2, 1, 2, 1, 0, 0, 2, 2, 2, 0,\n",
       "       0, 2, 2, 0, 2, 2, 1, 1, 0, 1, 1, 0, 1, 1, 1, 2, 1, 0, 2, 2, 1, 1,\n",
       "       1, 1, 1, 0, 1, 1, 2, 1, 0, 1, 1, 2, 2, 1, 0, 2, 0, 0, 0, 2, 1, 1,\n",
       "       2, 1, 1, 1, 0, 1, 0, 2, 2, 1, 0, 2, 1, 0, 1, 2, 0, 0, 1, 2, 0, 1,\n",
       "       2, 2, 1, 1, 0, 1, 2, 1, 0, 2, 2, 1, 0, 1, 0, 0, 2, 2, 1, 1, 2, 0,\n",
       "       2, 2, 1, 1, 0, 0, 2, 2, 1, 1, 2, 0, 0, 0, 2, 1, 0, 2, 1, 2, 1, 1,\n",
       "       0, 2, 0, 2, 2, 1, 2, 2, 1, 0, 1, 1, 2, 0, 1, 0, 0, 2, 2, 1, 1, 2,\n",
       "       2, 2, 0, 0, 0, 2, 2, 1, 1, 2, 2, 2, 1, 1, 1, 1, 2, 2, 1, 0, 2, 0,\n",
       "       2, 0, 0, 2, 1, 0, 2, 2, 1, 0, 2, 0, 2, 1, 1, 1, 0, 1, 1, 2, 1, 1,\n",
       "       1, 1, 2, 2, 1, 1, 1, 1, 2, 1, 2, 2, 0, 2, 0, 0, 1, 1, 1, 2])"
      ]
     },
     "execution_count": 84,
     "metadata": {},
     "output_type": "execute_result"
    }
   ],
   "source": [
    "predict_sc"
   ]
  },
  {
   "cell_type": "code",
   "execution_count": 85,
   "id": "e7435857-6333-4fbd-876a-9f5e00a59c3d",
   "metadata": {},
   "outputs": [
    {
     "data": {
      "text/plain": [
       "1178    1\n",
       "865     1\n",
       "101     2\n",
       "439     2\n",
       "58      2\n",
       "       ..\n",
       "382     0\n",
       "867     1\n",
       "542     2\n",
       "1193    1\n",
       "874     2\n",
       "Name: Plant_Health_Status, Length: 240, dtype: int32"
      ]
     },
     "execution_count": 85,
     "metadata": {},
     "output_type": "execute_result"
    }
   ],
   "source": [
    "y_test"
   ]
  },
  {
   "cell_type": "code",
   "execution_count": 86,
   "id": "6860c678-10b9-429e-80aa-4481260d8038",
   "metadata": {},
   "outputs": [
    {
     "data": {
      "text/plain": [
       "0.825"
      ]
     },
     "execution_count": 86,
     "metadata": {},
     "output_type": "execute_result"
    }
   ],
   "source": [
    "accuracy=accuracy_score(y_test,predict_sc)\n",
    "accuracy"
   ]
  },
  {
   "cell_type": "code",
   "execution_count": 87,
   "id": "6703894a-ba70-4510-a43d-c9caad2edae5",
   "metadata": {},
   "outputs": [
    {
     "data": {
      "text/plain": [
       "array([[53,  0, 12],\n",
       "       [ 1, 77,  7],\n",
       "       [10, 12, 68]], dtype=int64)"
      ]
     },
     "execution_count": 87,
     "metadata": {},
     "output_type": "execute_result"
    }
   ],
   "source": [
    "cm=confusion_matrix(y_test,predict_sc)\n",
    "cm"
   ]
  },
  {
   "cell_type": "code",
   "execution_count": 88,
   "id": "e03e5ce2-0b10-480a-b56b-11ee3c2e61e8",
   "metadata": {},
   "outputs": [
    {
     "data": {
      "image/png": "[encoded data removed]",
      "text/plain": [
       "<Figure size 800x400 with 2 Axes>"
      ]
     },
     "metadata": {},
     "output_type": "display_data"
    }
   ],
   "source": [
    "import seaborn as sns\n",
    "plt.figure(figsize=(8,4))\n",
    "plt.title('confusion matricx')\n",
    "sns.heatmap(cm,annot=True,fmt='d')\n",
    "plt.xlabel('True value')\n",
    "plt.ylabel('predicted value')\n",
    "plt.show()"
   ]
  },
  {
   "cell_type": "code",
   "execution_count": 89,
   "id": "919a9201-221a-4f78-a4e1-d238a6f284b4",
   "metadata": {},
   "outputs": [
    {
     "data": {
      "text/plain": [
       "0.9260416666666667"
      ]
     },
     "execution_count": 89,
     "metadata": {},
     "output_type": "execute_result"
    }
   ],
   "source": [
    "train_score=sc.score(x_train,y_train)\n",
    "train_score"
   ]
  },
  {
   "cell_type": "code",
   "execution_count": 90,
   "id": "bdd6c333-66b1-4401-b685-e55a163da50d",
   "metadata": {},
   "outputs": [
    {
     "data": {
      "text/plain": [
       "0.825"
      ]
     },
     "execution_count": 90,
     "metadata": {},
     "output_type": "execute_result"
    }
   ],
   "source": [
    "train_score=sc.score(x_test,y_test)\n",
    "train_score"
   ]
  },
  {
   "cell_type": "code",
   "execution_count": 91,
   "id": "e001620a-2511-4863-a7f7-a7de0a124239",
   "metadata": {},
   "outputs": [
    {
     "ename": "PermissionError",
     "evalue": "[Errno 13] Permission denied: 'dataset.csv'",
     "output_type": "error",
     "traceback": [
      "\u001b[1;31m---------------------------------------------------------------------------\u001b[0m",
      "\u001b[1;31mPermissionError\u001b[0m                           Traceback (most recent call last)",
      "Cell \u001b[1;32mIn[91], line 1\u001b[0m\n\u001b[1;32m----> 1\u001b[0m \u001b[43mdf\u001b[49m\u001b[38;5;241;43m.\u001b[39;49m\u001b[43mto_csv\u001b[49m\u001b[43m(\u001b[49m\u001b[38;5;124;43m'\u001b[39;49m\u001b[38;5;124;43mdataset.csv\u001b[39;49m\u001b[38;5;124;43m'\u001b[39;49m\u001b[43m,\u001b[49m\u001b[43m \u001b[49m\u001b[43mindex\u001b[49m\u001b[38;5;241;43m=\u001b[39;49m\u001b[38;5;28;43;01mFalse\u001b[39;49;00m\u001b[43m)\u001b[49m\n",
      "File \u001b[1;32m~\\AppData\\Local\\Programs\\Python\\Python312\\Lib\\site-packages\\pandas\\util\\_decorators.py:333\u001b[0m, in \u001b[0;36mdeprecate_nonkeyword_arguments.<locals>.decorate.<locals>.wrapper\u001b[1;34m(*args, **kwargs)\u001b[0m\n\u001b[0;32m    327\u001b[0m \u001b[38;5;28;01mif\u001b[39;00m \u001b[38;5;28mlen\u001b[39m(args) \u001b[38;5;241m>\u001b[39m num_allow_args:\n\u001b[0;32m    328\u001b[0m     warnings\u001b[38;5;241m.\u001b[39mwarn(\n\u001b[0;32m    329\u001b[0m         msg\u001b[38;5;241m.\u001b[39mformat(arguments\u001b[38;5;241m=\u001b[39m_format_argument_list(allow_args)),\n\u001b[0;32m    330\u001b[0m         \u001b[38;5;167;01mFutureWarning\u001b[39;00m,\n\u001b[0;32m    331\u001b[0m         stacklevel\u001b[38;5;241m=\u001b[39mfind_stack_level(),\n\u001b[0;32m    332\u001b[0m     )\n\u001b[1;32m--> 333\u001b[0m \u001b[38;5;28;01mreturn\u001b[39;00m \u001b[43mfunc\u001b[49m\u001b[43m(\u001b[49m\u001b[38;5;241;43m*\u001b[39;49m\u001b[43margs\u001b[49m\u001b[43m,\u001b[49m\u001b[43m \u001b[49m\u001b[38;5;241;43m*\u001b[39;49m\u001b[38;5;241;43m*\u001b[39;49m\u001b[43mkwargs\u001b[49m\u001b[43m)\u001b[49m\n",
      "File \u001b[1;32m~\\AppData\\Local\\Programs\\Python\\Python312\\Lib\\site-packages\\pandas\\core\\generic.py:3967\u001b[0m, in \u001b[0;36mNDFrame.to_csv\u001b[1;34m(self, path_or_buf, sep, na_rep, float_format, columns, header, index, index_label, mode, encoding, compression, quoting, quotechar, lineterminator, chunksize, date_format, doublequote, escapechar, decimal, errors, storage_options)\u001b[0m\n\u001b[0;32m   3956\u001b[0m df \u001b[38;5;241m=\u001b[39m \u001b[38;5;28mself\u001b[39m \u001b[38;5;28;01mif\u001b[39;00m \u001b[38;5;28misinstance\u001b[39m(\u001b[38;5;28mself\u001b[39m, ABCDataFrame) \u001b[38;5;28;01melse\u001b[39;00m \u001b[38;5;28mself\u001b[39m\u001b[38;5;241m.\u001b[39mto_frame()\n\u001b[0;32m   3958\u001b[0m formatter \u001b[38;5;241m=\u001b[39m DataFrameFormatter(\n\u001b[0;32m   3959\u001b[0m     frame\u001b[38;5;241m=\u001b[39mdf,\n\u001b[0;32m   3960\u001b[0m     header\u001b[38;5;241m=\u001b[39mheader,\n\u001b[1;32m   (...)\u001b[0m\n\u001b[0;32m   3964\u001b[0m     decimal\u001b[38;5;241m=\u001b[39mdecimal,\n\u001b[0;32m   3965\u001b[0m )\n\u001b[1;32m-> 3967\u001b[0m \u001b[38;5;28;01mreturn\u001b[39;00m \u001b[43mDataFrameRenderer\u001b[49m\u001b[43m(\u001b[49m\u001b[43mformatter\u001b[49m\u001b[43m)\u001b[49m\u001b[38;5;241;43m.\u001b[39;49m\u001b[43mto_csv\u001b[49m\u001b[43m(\u001b[49m\n\u001b[0;32m   3968\u001b[0m \u001b[43m    \u001b[49m\u001b[43mpath_or_buf\u001b[49m\u001b[43m,\u001b[49m\n\u001b[0;32m   3969\u001b[0m \u001b[43m    \u001b[49m\u001b[43mlineterminator\u001b[49m\u001b[38;5;241;43m=\u001b[39;49m\u001b[43mlineterminator\u001b[49m\u001b[43m,\u001b[49m\n\u001b[0;32m   3970\u001b[0m \u001b[43m    \u001b[49m\u001b[43msep\u001b[49m\u001b[38;5;241;43m=\u001b[39;49m\u001b[43msep\u001b[49m\u001b[43m,\u001b[49m\n\u001b[0;32m   3971\u001b[0m \u001b[43m    \u001b[49m\u001b[43mencoding\u001b[49m\u001b[38;5;241;43m=\u001b[39;49m\u001b[43mencoding\u001b[49m\u001b[43m,\u001b[49m\n\u001b[0;32m   3972\u001b[0m \u001b[43m    \u001b[49m\u001b[43merrors\u001b[49m\u001b[38;5;241;43m=\u001b[39;49m\u001b[43merrors\u001b[49m\u001b[43m,\u001b[49m\n\u001b[0;32m   3973\u001b[0m \u001b[43m    \u001b[49m\u001b[43mcompression\u001b[49m\u001b[38;5;241;43m=\u001b[39;49m\u001b[43mcompression\u001b[49m\u001b[43m,\u001b[49m\n\u001b[0;32m   3974\u001b[0m \u001b[43m    \u001b[49m\u001b[43mquoting\u001b[49m\u001b[38;5;241;43m=\u001b[39;49m\u001b[43mquoting\u001b[49m\u001b[43m,\u001b[49m\n\u001b[0;32m   3975\u001b[0m \u001b[43m    \u001b[49m\u001b[43mcolumns\u001b[49m\u001b[38;5;241;43m=\u001b[39;49m\u001b[43mcolumns\u001b[49m\u001b[43m,\u001b[49m\n\u001b[0;32m   3976\u001b[0m \u001b[43m    \u001b[49m\u001b[43mindex_label\u001b[49m\u001b[38;5;241;43m=\u001b[39;49m\u001b[43mindex_label\u001b[49m\u001b[43m,\u001b[49m\n\u001b[0;32m   3977\u001b[0m \u001b[43m    \u001b[49m\u001b[43mmode\u001b[49m\u001b[38;5;241;43m=\u001b[39;49m\u001b[43mmode\u001b[49m\u001b[43m,\u001b[49m\n\u001b[0;32m   3978\u001b[0m \u001b[43m    \u001b[49m\u001b[43mchunksize\u001b[49m\u001b[38;5;241;43m=\u001b[39;49m\u001b[43mchunksize\u001b[49m\u001b[43m,\u001b[49m\n\u001b[0;32m   3979\u001b[0m \u001b[43m    \u001b[49m\u001b[43mquotechar\u001b[49m\u001b[38;5;241;43m=\u001b[39;49m\u001b[43mquotechar\u001b[49m\u001b[43m,\u001b[49m\n\u001b[0;32m   3980\u001b[0m \u001b[43m    \u001b[49m\u001b[43mdate_format\u001b[49m\u001b[38;5;241;43m=\u001b[39;49m\u001b[43mdate_format\u001b[49m\u001b[43m,\u001b[49m\n\u001b[0;32m   3981\u001b[0m \u001b[43m    \u001b[49m\u001b[43mdoublequote\u001b[49m\u001b[38;5;241;43m=\u001b[39;49m\u001b[43mdoublequote\u001b[49m\u001b[43m,\u001b[49m\n\u001b[0;32m   3982\u001b[0m \u001b[43m    \u001b[49m\u001b[43mescapechar\u001b[49m\u001b[38;5;241;43m=\u001b[39;49m\u001b[43mescapechar\u001b[49m\u001b[43m,\u001b[49m\n\u001b[0;32m   3983\u001b[0m \u001b[43m    \u001b[49m\u001b[43mstorage_options\u001b[49m\u001b[38;5;241;43m=\u001b[39;49m\u001b[43mstorage_options\u001b[49m\u001b[43m,\u001b[49m\n\u001b[0;32m   3984\u001b[0m \u001b[43m\u001b[49m\u001b[43m)\u001b[49m\n",
      "File \u001b[1;32m~\\AppData\\Local\\Programs\\Python\\Python312\\Lib\\site-packages\\pandas\\io\\formats\\format.py:1014\u001b[0m, in \u001b[0;36mDataFrameRenderer.to_csv\u001b[1;34m(self, path_or_buf, encoding, sep, columns, index_label, mode, compression, quoting, quotechar, lineterminator, chunksize, date_format, doublequote, escapechar, errors, storage_options)\u001b[0m\n\u001b[0;32m    993\u001b[0m     created_buffer \u001b[38;5;241m=\u001b[39m \u001b[38;5;28;01mFalse\u001b[39;00m\n\u001b[0;32m    995\u001b[0m csv_formatter \u001b[38;5;241m=\u001b[39m CSVFormatter(\n\u001b[0;32m    996\u001b[0m     path_or_buf\u001b[38;5;241m=\u001b[39mpath_or_buf,\n\u001b[0;32m    997\u001b[0m     lineterminator\u001b[38;5;241m=\u001b[39mlineterminator,\n\u001b[1;32m   (...)\u001b[0m\n\u001b[0;32m   1012\u001b[0m     formatter\u001b[38;5;241m=\u001b[39m\u001b[38;5;28mself\u001b[39m\u001b[38;5;241m.\u001b[39mfmt,\n\u001b[0;32m   1013\u001b[0m )\n\u001b[1;32m-> 1014\u001b[0m \u001b[43mcsv_formatter\u001b[49m\u001b[38;5;241;43m.\u001b[39;49m\u001b[43msave\u001b[49m\u001b[43m(\u001b[49m\u001b[43m)\u001b[49m\n\u001b[0;32m   1016\u001b[0m \u001b[38;5;28;01mif\u001b[39;00m created_buffer:\n\u001b[0;32m   1017\u001b[0m     \u001b[38;5;28;01massert\u001b[39;00m \u001b[38;5;28misinstance\u001b[39m(path_or_buf, StringIO)\n",
      "File \u001b[1;32m~\\AppData\\Local\\Programs\\Python\\Python312\\Lib\\site-packages\\pandas\\io\\formats\\csvs.py:251\u001b[0m, in \u001b[0;36mCSVFormatter.save\u001b[1;34m(self)\u001b[0m\n\u001b[0;32m    247\u001b[0m \u001b[38;5;250m\u001b[39m\u001b[38;5;124;03m\"\"\"\u001b[39;00m\n\u001b[0;32m    248\u001b[0m \u001b[38;5;124;03mCreate the writer & save.\u001b[39;00m\n\u001b[0;32m    249\u001b[0m \u001b[38;5;124;03m\"\"\"\u001b[39;00m\n\u001b[0;32m    250\u001b[0m \u001b[38;5;66;03m# apply compression and byte/text conversion\u001b[39;00m\n\u001b[1;32m--> 251\u001b[0m \u001b[38;5;28;01mwith\u001b[39;00m \u001b[43mget_handle\u001b[49m\u001b[43m(\u001b[49m\n\u001b[0;32m    252\u001b[0m \u001b[43m    \u001b[49m\u001b[38;5;28;43mself\u001b[39;49m\u001b[38;5;241;43m.\u001b[39;49m\u001b[43mfilepath_or_buffer\u001b[49m\u001b[43m,\u001b[49m\n\u001b[0;32m    253\u001b[0m \u001b[43m    \u001b[49m\u001b[38;5;28;43mself\u001b[39;49m\u001b[38;5;241;43m.\u001b[39;49m\u001b[43mmode\u001b[49m\u001b[43m,\u001b[49m\n\u001b[0;32m    254\u001b[0m \u001b[43m    \u001b[49m\u001b[43mencoding\u001b[49m\u001b[38;5;241;43m=\u001b[39;49m\u001b[38;5;28;43mself\u001b[39;49m\u001b[38;5;241;43m.\u001b[39;49m\u001b[43mencoding\u001b[49m\u001b[43m,\u001b[49m\n\u001b[0;32m    255\u001b[0m \u001b[43m    \u001b[49m\u001b[43merrors\u001b[49m\u001b[38;5;241;43m=\u001b[39;49m\u001b[38;5;28;43mself\u001b[39;49m\u001b[38;5;241;43m.\u001b[39;49m\u001b[43merrors\u001b[49m\u001b[43m,\u001b[49m\n\u001b[0;32m    256\u001b[0m \u001b[43m    \u001b[49m\u001b[43mcompression\u001b[49m\u001b[38;5;241;43m=\u001b[39;49m\u001b[38;5;28;43mself\u001b[39;49m\u001b[38;5;241;43m.\u001b[39;49m\u001b[43mcompression\u001b[49m\u001b[43m,\u001b[49m\n\u001b[0;32m    257\u001b[0m \u001b[43m    \u001b[49m\u001b[43mstorage_options\u001b[49m\u001b[38;5;241;43m=\u001b[39;49m\u001b[38;5;28;43mself\u001b[39;49m\u001b[38;5;241;43m.\u001b[39;49m\u001b[43mstorage_options\u001b[49m\u001b[43m,\u001b[49m\n\u001b[0;32m    258\u001b[0m \u001b[43m\u001b[49m\u001b[43m)\u001b[49m \u001b[38;5;28;01mas\u001b[39;00m handles:\n\u001b[0;32m    259\u001b[0m     \u001b[38;5;66;03m# Note: self.encoding is irrelevant here\u001b[39;00m\n\u001b[0;32m    260\u001b[0m     \u001b[38;5;28mself\u001b[39m\u001b[38;5;241m.\u001b[39mwriter \u001b[38;5;241m=\u001b[39m csvlib\u001b[38;5;241m.\u001b[39mwriter(\n\u001b[0;32m    261\u001b[0m         handles\u001b[38;5;241m.\u001b[39mhandle,\n\u001b[0;32m    262\u001b[0m         lineterminator\u001b[38;5;241m=\u001b[39m\u001b[38;5;28mself\u001b[39m\u001b[38;5;241m.\u001b[39mlineterminator,\n\u001b[1;32m   (...)\u001b[0m\n\u001b[0;32m    267\u001b[0m         quotechar\u001b[38;5;241m=\u001b[39m\u001b[38;5;28mself\u001b[39m\u001b[38;5;241m.\u001b[39mquotechar,\n\u001b[0;32m    268\u001b[0m     )\n\u001b[0;32m    270\u001b[0m     \u001b[38;5;28mself\u001b[39m\u001b[38;5;241m.\u001b[39m_save()\n",
      "File \u001b[1;32m~\\AppData\\Local\\Programs\\Python\\Python312\\Lib\\site-packages\\pandas\\io\\common.py:873\u001b[0m, in \u001b[0;36mget_handle\u001b[1;34m(path_or_buf, mode, encoding, compression, memory_map, is_text, errors, storage_options)\u001b[0m\n\u001b[0;32m    868\u001b[0m \u001b[38;5;28;01melif\u001b[39;00m \u001b[38;5;28misinstance\u001b[39m(handle, \u001b[38;5;28mstr\u001b[39m):\n\u001b[0;32m    869\u001b[0m     \u001b[38;5;66;03m# Check whether the filename is to be opened in binary mode.\u001b[39;00m\n\u001b[0;32m    870\u001b[0m     \u001b[38;5;66;03m# Binary mode does not support 'encoding' and 'newline'.\u001b[39;00m\n\u001b[0;32m    871\u001b[0m     \u001b[38;5;28;01mif\u001b[39;00m ioargs\u001b[38;5;241m.\u001b[39mencoding \u001b[38;5;129;01mand\u001b[39;00m \u001b[38;5;124m\"\u001b[39m\u001b[38;5;124mb\u001b[39m\u001b[38;5;124m\"\u001b[39m \u001b[38;5;129;01mnot\u001b[39;00m \u001b[38;5;129;01min\u001b[39;00m ioargs\u001b[38;5;241m.\u001b[39mmode:\n\u001b[0;32m    872\u001b[0m         \u001b[38;5;66;03m# Encoding\u001b[39;00m\n\u001b[1;32m--> 873\u001b[0m         handle \u001b[38;5;241m=\u001b[39m \u001b[38;5;28;43mopen\u001b[39;49m\u001b[43m(\u001b[49m\n\u001b[0;32m    874\u001b[0m \u001b[43m            \u001b[49m\u001b[43mhandle\u001b[49m\u001b[43m,\u001b[49m\n\u001b[0;32m    875\u001b[0m \u001b[43m            \u001b[49m\u001b[43mioargs\u001b[49m\u001b[38;5;241;43m.\u001b[39;49m\u001b[43mmode\u001b[49m\u001b[43m,\u001b[49m\n\u001b[0;32m    876\u001b[0m \u001b[43m            \u001b[49m\u001b[43mencoding\u001b[49m\u001b[38;5;241;43m=\u001b[39;49m\u001b[43mioargs\u001b[49m\u001b[38;5;241;43m.\u001b[39;49m\u001b[43mencoding\u001b[49m\u001b[43m,\u001b[49m\n\u001b[0;32m    877\u001b[0m \u001b[43m            \u001b[49m\u001b[43merrors\u001b[49m\u001b[38;5;241;43m=\u001b[39;49m\u001b[43merrors\u001b[49m\u001b[43m,\u001b[49m\n\u001b[0;32m    878\u001b[0m \u001b[43m            \u001b[49m\u001b[43mnewline\u001b[49m\u001b[38;5;241;43m=\u001b[39;49m\u001b[38;5;124;43m\"\u001b[39;49m\u001b[38;5;124;43m\"\u001b[39;49m\u001b[43m,\u001b[49m\n\u001b[0;32m    879\u001b[0m \u001b[43m        \u001b[49m\u001b[43m)\u001b[49m\n\u001b[0;32m    880\u001b[0m     \u001b[38;5;28;01melse\u001b[39;00m:\n\u001b[0;32m    881\u001b[0m         \u001b[38;5;66;03m# Binary mode\u001b[39;00m\n\u001b[0;32m    882\u001b[0m         handle \u001b[38;5;241m=\u001b[39m \u001b[38;5;28mopen\u001b[39m(handle, ioargs\u001b[38;5;241m.\u001b[39mmode)\n",
      "\u001b[1;31mPermissionError\u001b[0m: [Errno 13] Permission denied: 'dataset.csv'"
     ]
    }
   ],
   "source": [
    "df.to_csv('dataset.csv', index=False)"
   ]
  },
  {
   "cell_type": "code",
   "execution_count": 95,
   "id": "771d1ab2-b452-43b6-873a-2a76e9e21b8b",
   "metadata": {},
   "outputs": [],
   "source": [
    "import pickle"
   ]
  },
  {
   "cell_type": "code",
   "execution_count": 96,
   "id": "408a2b9d-3e94-49e6-a880-8635ae49673d",
   "metadata": {},
   "outputs": [],
   "source": [
    "with open('dcl_model.pkl','wb')as f:\n",
    "    pickle.dump(dcl,f)"
   ]
  },
  {
   "cell_type": "code",
   "execution_count": 97,
   "id": "39961581-c5b5-4ec0-b050-64e2b5ef251a",
   "metadata": {},
   "outputs": [],
   "source": [
    "with open('en_model.pkl','wb')as f:\n",
    "    pickle.dump(sc,f)"
   ]
  },
  {
   "cell_type": "code",
   "execution_count": null,
   "id": "d8705213-94ee-465f-ab9f-ffe1049e0583",
   "metadata": {},
   "outputs": [],
   "source": []
  },
  {
   "cell_type": "code",
   "execution_count": null,
   "id": "1da17a33-c8fb-41f9-b995-c9fb100cfc5d",
   "metadata": {},
   "outputs": [],
   "source": []
  },
  {
   "cell_type": "code",
   "execution_count": null,
   "id": "badb3b57-cc9a-407a-9bfe-7bc7cc1fdcd3",
   "metadata": {},
   "outputs": [],
   "source": []
  },
  {
   "cell_type": "code",
   "execution_count": null,
   "id": "01ec0e33-d718-47fb-82f0-07ed16c8434a",
   "metadata": {},
   "outputs": [],
   "source": []
  },
  {
   "cell_type": "code",
   "execution_count": null,
   "id": "05bfdad3-ab65-4ed4-a7a7-64448553cd9e",
   "metadata": {},
   "outputs": [],
   "source": []
  },
  {
   "cell_type": "code",
   "execution_count": null,
   "id": "1eb77fd0-2c20-4172-b18a-e2e5439adbbc",
   "metadata": {},
   "outputs": [],
   "source": []
  },
  {
   "cell_type": "code",
   "execution_count": null,
   "id": "929d4a76-ddf4-4d40-8b94-499255e2b0d5",
   "metadata": {},
   "outputs": [],
   "source": []
  },
  {
   "cell_type": "code",
   "execution_count": null,
   "id": "4e663bb3-d4ca-414e-95ab-5504b811d169",
   "metadata": {},
   "outputs": [],
   "source": []
  },
  {
   "cell_type": "code",
   "execution_count": null,
   "id": "17d6a406-c425-443e-be06-263f21a3b095",
   "metadata": {},
   "outputs": [],
   "source": []
  },
  {
   "cell_type": "code",
   "execution_count": null,
   "id": "70caf4c1-64a2-4640-9b0c-f74d30c3c921",
   "metadata": {},
   "outputs": [],
   "source": []
  },
  {
   "cell_type": "code",
   "execution_count": null,
   "id": "b24723a3-6982-4560-983d-f2f35790a98c",
   "metadata": {},
   "outputs": [],
   "source": []
  },
  {
   "cell_type": "code",
   "execution_count": null,
   "id": "c34feffb-8e76-4d49-9a83-2bf0f7022c9f",
   "metadata": {},
   "outputs": [],
   "source": []
  },
  {
   "cell_type": "code",
   "execution_count": null,
   "id": "47db834a-f0cb-4093-bb16-00333bf4b463",
   "metadata": {},
   "outputs": [],
   "source": []
  },
  {
   "cell_type": "code",
   "execution_count": null,
   "id": "f8de7e0f-71c1-4976-85e2-b2bb353fb44f",
   "metadata": {},
   "outputs": [],
   "source": []
  }
 ],
 "metadata": {
  "kernelspec": {
   "display_name": "Python 3 (ipykernel)",
   "language": "python",
   "name": "python3"
  },
  "language_info": {
   "codemirror_mode": {
    "name": "ipython",
    "version": 3
   },
   "file_extension": ".py",
   "mimetype": "text/x-python",
   "name": "python",
   "nbconvert_exporter": "python",
   "pygments_lexer": "ipython3",
   "version": "3.12.3"
  }
 },
 "nbformat": 4,
 "nbformat_minor": 5
}
